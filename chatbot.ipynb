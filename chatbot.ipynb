{
 "cells": [
  {
   "cell_type": "code",
   "execution_count": 8,
   "metadata": {},
   "outputs": [],
   "source": [
    "# BigBangTheroy Crawling \n",
    "\n",
    "import requests\n",
    "from bs4 import BeautifulSoup\n",
    "\n",
    "url = 'https://bigbangtrans.wordpress.com/'\n",
    "data = requests.get(url)\n",
    "soup = BeautifulSoup(data.text, 'html.parser')"
   ]
  },
  {
   "cell_type": "code",
   "execution_count": null,
   "metadata": {},
   "outputs": [],
   "source": [
    "print(soup)"
   ]
  },
  {
   "cell_type": "code",
   "execution_count": 34,
   "metadata": {},
   "outputs": [],
   "source": [
    "#Episode url 모두 for 문 돌면서 가져오게 하기\n",
    "\n",
    "# all_ep = soup.select('#pages-2 > ul > li.page_item.page-item-3 > a')"
   ]
  },
  {
   "cell_type": "code",
   "execution_count": 16,
   "metadata": {},
   "outputs": [
    {
     "name": "stdout",
     "output_type": "stream",
     "text": [
      "<div id=\"sidebar\">\n",
      "<div class=\"widget widget_text\" id=\"text-404271621\"> <div class=\"textwidget\"><div align=\"center\">This page takes a lot of time and effort to keep up to date. Perhaps if you get some use out of it, you could chuck me a few pennies towards keeping it going.<p><a href=\"https://www.paypal.com/cgi-bin/webscr?cmd=_s-xclick&amp;hosted_button_id=4682827\"><img src=\"https://www.paypal.com/en_GB/i/btn/btn_donate_SM.gif\"/></a></p></div></div>\n",
      "</div> <form action=\"/\" id=\"searchform\" method=\"get\">\n",
      "<div><input id=\"s\" name=\"s\" onblur=\"this.value=(this.value=='') ? 'Search' : this.value;\" onfocus=\"this.value=(this.value=='Search') ? '' : this.value;\" type=\"text\" value=\"Search\"/>\n",
      "</div>\n",
      "</form>\n",
      "<div class=\"widget widget_pages\" id=\"pages-2\"><h3>Pages</h3>\n",
      "<ul>\n",
      "<li class=\"page_item page-item-2\"><a href=\"https://bigbangtrans.wordpress.com/about/\">About</a></li>\n",
      "<li class=\"page_item page-item-3\"><a href=\"https://bigbangtrans.wordpress.com/series-1-episode-1-pilot-episode/\">Series 01 Episode 01 – Pilot Episode</a></li>\n",
      "<li class=\"page_item page-item-5\"><a href=\"https://bigbangtrans.wordpress.com/series-1-episode-2-the-big-bran-hypothesis/\">Series 01 Episode 02 – The Big Bran Hypothesis</a></li>\n",
      "<li class=\"page_item page-item-7\"><a href=\"https://bigbangtrans.wordpress.com/series-1-episode-3-the-fuzzy-boots-corollary/\">Series 01 Episode 03 – The Fuzzy Boots Corollary</a></li>\n",
      "<li class=\"page_item page-item-9\"><a href=\"https://bigbangtrans.wordpress.com/series-1-episode-4-the-luminous-fish-effect/\">Series 01 Episode 04 – The Luminous Fish Effect</a></li>\n",
      "<li class=\"page_item page-item-11\"><a href=\"https://bigbangtrans.wordpress.com/series-1-episode-5-the-hamburger-postulate/\">Series 01 Episode 05 – The Hamburger Postulate</a></li>\n",
      "<li class=\"page_item page-item-21\"><a href=\"https://bigbangtrans.wordpress.com/series-1-episode-6-the-middle-earth-paradigm/\">Series 01 Episode 06 – The Middle Earth Paradigm</a></li>\n",
      "<li class=\"page_item page-item-28\"><a href=\"https://bigbangtrans.wordpress.com/series-1-episode-7-the-dumpling-paradox/\">Series 01 Episode 07 – The Dumpling Paradox</a></li>\n",
      "<li class=\"page_item page-item-30\"><a href=\"https://bigbangtrans.wordpress.com/series-1-episode-8-the-grasshopper-experiment/\">Series 01 Episode 08 – The Grasshopper Experiment</a></li>\n",
      "<li class=\"page_item page-item-33\"><a href=\"https://bigbangtrans.wordpress.com/series-1-episode-9-the-cooper-hofstadter-polarization/\">Series 01 Episode 09 – The Cooper-Hofstadter Polarization</a></li>\n",
      "<li class=\"page_item page-item-35\"><a href=\"https://bigbangtrans.wordpress.com/series-1-episode-10-the-loobenfeld-decay/\">Series 01 Episode 10 – The Loobenfeld Decay</a></li>\n",
      "<li class=\"page_item page-item-49\"><a href=\"https://bigbangtrans.wordpress.com/series-1-episode-11-the-pancake-batter-anomaly/\">Series 01 Episode 11 – The Pancake Batter Anomaly</a></li>\n",
      "<li class=\"page_item page-item-47\"><a href=\"https://bigbangtrans.wordpress.com/series-1-episode-12-the-jerusalem-duality/\">Series 01 Episode 12 – The Jerusalem Duality</a></li>\n",
      "<li class=\"page_item page-item-54\"><a href=\"https://bigbangtrans.wordpress.com/series-1-episode-13-the-bat-jar-conjecture/\">Series 01 Episode 13 – The Bat Jar Conjecture</a></li>\n",
      "<li class=\"page_item page-item-56\"><a href=\"https://bigbangtrans.wordpress.com/series-1-episode-14-the-nerdvana-annihilation/\">Series 01 Episode 14 – The Nerdvana Annihilation</a></li>\n",
      "<li class=\"page_item page-item-59\"><a href=\"https://bigbangtrans.wordpress.com/series-1-episode-15-the-porkchop-indeterminacy/\">Series 01 Episode 15 – The Porkchop Indeterminacy</a></li>\n",
      "<li class=\"page_item page-item-62\"><a href=\"https://bigbangtrans.wordpress.com/series-1-episode-16-the-peanut-reaction/\">Series 01 Episode 16 – The Peanut Reaction</a></li>\n",
      "<li class=\"page_item page-item-64\"><a href=\"https://bigbangtrans.wordpress.com/series-1-episode-17-the-tangerine-factor/\">Series 01 Episode 17 – The Tangerine Factor</a></li>\n",
      "<li class=\"page_item page-item-66\"><a href=\"https://bigbangtrans.wordpress.com/series-2-episode-01-the-bad-fish-paradigm/\">Series 02 Episode 01 – The Bad Fish Paradigm</a></li>\n",
      "<li class=\"page_item page-item-68\"><a href=\"https://bigbangtrans.wordpress.com/series-2-episode-02-the-codpiece-topology/\">Series 02 Episode 02 – The Codpiece Topology</a></li>\n",
      "<li class=\"page_item page-item-70\"><a href=\"https://bigbangtrans.wordpress.com/series-2-episode-03-the-barbarian-sublimation/\">Series 02 Episode 03 – The Barbarian Sublimation</a></li>\n",
      "<li class=\"page_item page-item-72\"><a href=\"https://bigbangtrans.wordpress.com/series-2-episode-04-the-griffin-equivalency/\">Series 02 Episode 04 – The Griffin Equivalency</a></li>\n",
      "<li class=\"page_item page-item-81\"><a href=\"https://bigbangtrans.wordpress.com/series-2-episode-5-the-euclid-alternative/\">Series 02 Episode 05 – The Euclid Alternative</a></li>\n",
      "<li class=\"page_item page-item-90\"><a href=\"https://bigbangtrans.wordpress.com/series-2-episode-06-the-cooper-nowitzki-theorem-2/\">Series 02 Episode 06 – The Cooper-Nowitzki Theorem</a></li>\n",
      "<li class=\"page_item page-item-93\"><a href=\"https://bigbangtrans.wordpress.com/series-2-episode-07-the-panty-pinata-polarization/\">Series 02 Episode 07 – The Panty Pinata Polarization</a></li>\n",
      "<li class=\"page_item page-item-96\"><a href=\"https://bigbangtrans.wordpress.com/series-1-episode-08-the-lizard-spock-expansion/\">Series 02 Episode 08 – The Lizard-Spock Expansion</a></li>\n",
      "<li class=\"page_item page-item-100\"><a href=\"https://bigbangtrans.wordpress.com/series-2-episode-09-the-white-asparagus-triangulation/\">Series 02 Episode 09 – The White Asparagus Triangulation</a></li>\n",
      "<li class=\"page_item page-item-103\"><a href=\"https://bigbangtrans.wordpress.com/series-2-episode-11-the-vartabedian-conundrum/\">Series 02 Episode 10 – The Vartabedian Conundrum</a></li>\n",
      "<li class=\"page_item page-item-106\"><a href=\"https://bigbangtrans.wordpress.com/series-2-episode-11-the-bath-item-gift-hypothesis/\">Series 02 Episode 11 – The Bath Item Gift Hypothesis</a></li>\n",
      "<li class=\"page_item page-item-108\"><a href=\"https://bigbangtrans.wordpress.com/series-2-episode-12-the-killer-robot-instability/\">Series 02 Episode 12 – The Killer Robot Instability</a></li>\n",
      "<li class=\"page_item page-item-110\"><a href=\"https://bigbangtrans.wordpress.com/series-2-episode-13-the-friendship-algorithm/\">Series 02 Episode 13 – The Friendship Algorithm</a></li>\n",
      "<li class=\"page_item page-item-118\"><a href=\"https://bigbangtrans.wordpress.com/series-2-episode-14-the-financial-permeability-2/\">Series 02 Episode 14 – The Financial Permeability</a></li>\n",
      "<li class=\"page_item page-item-120\"><a href=\"https://bigbangtrans.wordpress.com/series-2-episode-15-the-maternal-capacitance/\">Series 02 Episode 15 – The Maternal Capacitance</a></li>\n",
      "<li class=\"page_item page-item-127\"><a href=\"https://bigbangtrans.wordpress.com/series-2-episode-16-the-cushion-saturation-3/\">Series 02 Episode 16 – The Cushion Saturation</a></li>\n",
      "<li class=\"page_item page-item-131\"><a href=\"https://bigbangtrans.wordpress.com/series-2-episode-17-the-terminator-decoupling/\">Series 02 Episode 17 – The Terminator Decoupling</a></li>\n",
      "<li class=\"page_item page-item-133\"><a href=\"https://bigbangtrans.wordpress.com/series-2-episode-18-the-work-song-nanocluster/\">Series 02 Episode 18 – The Work Song Nanocluster</a></li>\n",
      "<li class=\"page_item page-item-135\"><a href=\"https://bigbangtrans.wordpress.com/series-2-episode-19-the-dead-hooker-juxtaposition/\">Series 02 Episode 19 – The Dead Hooker Juxtaposition</a></li>\n",
      "<li class=\"page_item page-item-137\"><a href=\"https://bigbangtrans.wordpress.com/series-2-episode-20-the-hofstadter-isotope/\">Series 02 Episode 20 – The Hofstadter Isotope</a></li>\n",
      "<li class=\"page_item page-item-139\"><a href=\"https://bigbangtrans.wordpress.com/series-2-episode-21-the-vegas-renormalization/\">Series 02 Episode 21 – The Vegas Renormalization</a></li>\n",
      "<li class=\"page_item page-item-142\"><a href=\"https://bigbangtrans.wordpress.com/series-2-episode-22-the-classified-materials-turbulence/\">Series 02 Episode 22 – The Classified Materials Turbulence</a></li>\n",
      "<li class=\"page_item page-item-145\"><a href=\"https://bigbangtrans.wordpress.com/series-2-episode-23-the-monopolar-expedition/\">Series 02 Episode 23 – The Monopolar Expedition</a></li>\n",
      "<li class=\"page_item page-item-148\"><a href=\"https://bigbangtrans.wordpress.com/series-3-episode-01-the-electric-can-opener-fluctuation/\">Series 03 Episode 01 – The Electric Can Opener Fluctuation</a></li>\n",
      "<li class=\"page_item page-item-150\"><a href=\"https://bigbangtrans.wordpress.com/series-3-episode-02-the-jiminy-conjecture/\">Series 03 Episode 02 – The Jiminy Conjecture</a></li>\n",
      "<li class=\"page_item page-item-152\"><a href=\"https://bigbangtrans.wordpress.com/series-3-episode-03-the-gothowitz-deviation/\">Series 03 Episode 03 – The Gothowitz Deviation</a></li>\n",
      "<li class=\"page_item page-item-154\"><a href=\"https://bigbangtrans.wordpress.com/series-3-episode-04-the-pirate-solution/\">Series 03 Episode 04 – The Pirate Solution</a></li>\n",
      "<li class=\"page_item page-item-157\"><a href=\"https://bigbangtrans.wordpress.com/series-3-episode-05-the-creepy-candy-coating-corollary/\">Series 03 Episode 05 – The Creepy Candy Coating Corollary</a></li>\n",
      "<li class=\"page_item page-item-159\"><a href=\"https://bigbangtrans.wordpress.com/series-3-episode-06-the-cornhusker-vortex/\">Series 03 Episode 06 – The Cornhusker Vortex</a></li>\n",
      "<li class=\"page_item page-item-162\"><a href=\"https://bigbangtrans.wordpress.com/series-3-episode-07-the-guitarist-amplification/\">Series 03 Episode 07 – The Guitarist Amplification</a></li>\n",
      "<li class=\"page_item page-item-164\"><a href=\"https://bigbangtrans.wordpress.com/series-3-episode-08-the-adhesive-duck-deficiency/\">Series 03 Episode 08 – The Adhesive Duck Deficiency</a></li>\n",
      "<li class=\"page_item page-item-166\"><a href=\"https://bigbangtrans.wordpress.com/series-3-episode-09-the-vengeance-formulation/\">Series 03 Episode 09 – The Vengeance Formulation</a></li>\n",
      "<li class=\"page_item page-item-168\"><a href=\"https://bigbangtrans.wordpress.com/series-3-episode-10-the-gorilla-experiment/\">Series 03 Episode 10 – The Gorilla Experiment</a></li>\n",
      "<li class=\"page_item page-item-170\"><a href=\"https://bigbangtrans.wordpress.com/series-3-episode-11-the-maternal-congruence/\">Series 03 Episode 11 – The Maternal Congruence</a></li>\n",
      "<li class=\"page_item page-item-172\"><a href=\"https://bigbangtrans.wordpress.com/series-3-episode-12-the-psychic-vortex/\">Series 03 Episode 12 – The Psychic Vortex</a></li>\n",
      "<li class=\"page_item page-item-173\"><a href=\"https://bigbangtrans.wordpress.com/series-3-episode-13-the-bozeman-reaction/\">Series 03 Episode 13 – The Bozeman Reaction</a></li>\n",
      "<li class=\"page_item page-item-174\"><a href=\"https://bigbangtrans.wordpress.com/series-3-episode-14-the-einstein-approximation/\">Series 03 Episode 14 – The Einstein Approximation</a></li>\n",
      "<li class=\"page_item page-item-176\"><a href=\"https://bigbangtrans.wordpress.com/series-3-episode-15-the-large-hadron-collision/\">Series 03 Episode 15 – The Large Hadron Collision</a></li>\n",
      "<li class=\"page_item page-item-179\"><a href=\"https://bigbangtrans.wordpress.com/series-3-episode-16-the-excelsior-acquisition/\">Series 03 Episode 16 – The Excelsior Acquisition</a></li>\n",
      "<li class=\"page_item page-item-184\"><a href=\"https://bigbangtrans.wordpress.com/series-3-episode-17-the-precious-fragmentation/\">Series 03 Episode 17 – The Precious Fragmentation</a></li>\n",
      "<li class=\"page_item page-item-188\"><a href=\"https://bigbangtrans.wordpress.com/series-3-episode-18-the-pants-alternative/\">Series 03 Episode 18 – The Pants Alternative</a></li>\n",
      "<li class=\"page_item page-item-190\"><a href=\"https://bigbangtrans.wordpress.com/series-3-episode-19-the-wheaton-recurrence/\">Series 03 Episode 19 – The Wheaton Recurrence</a></li>\n",
      "<li class=\"page_item page-item-192\"><a href=\"https://bigbangtrans.wordpress.com/series-3-episode-20-the-spaghetti-catalyst/\">Series 03 Episode 20 – The Spaghetti Catalyst</a></li>\n",
      "<li class=\"page_item page-item-196\"><a href=\"https://bigbangtrans.wordpress.com/series-3-episode-21-the-plimpton-stimulation/\">Series 03 Episode 21 – The Plimpton Stimulation</a></li>\n",
      "<li class=\"page_item page-item-201\"><a href=\"https://bigbangtrans.wordpress.com/series-3-episode-22-the-staircase-implementation/\">Series 03 Episode 22 – The Staircase Implementation</a></li>\n",
      "<li class=\"page_item page-item-203\"><a href=\"https://bigbangtrans.wordpress.com/series-3-episode-23-the-lunar-excitation/\">Series 03 Episode 23 – The Lunar Excitation</a></li>\n",
      "<li class=\"page_item page-item-213\"><a href=\"https://bigbangtrans.wordpress.com/series-4-episode-01-the-robotic-manipulation/\">Series 04 Episode 01 – The Robotic Manipulation</a></li>\n",
      "<li class=\"page_item page-item-216\"><a href=\"https://bigbangtrans.wordpress.com/series-4-episode-02-the-cruciferous-vegetable-amplification/\">Series 04 Episode 02 – The Cruciferous Vegetable Amplification</a></li>\n",
      "<li class=\"page_item page-item-218\"><a href=\"https://bigbangtrans.wordpress.com/series-4-episode-03-the-zazzy-substitution/\">Series 04 Episode 03 – The Zazzy Substitution</a></li>\n",
      "<li class=\"page_item page-item-220\"><a href=\"https://bigbangtrans.wordpress.com/series-4-episode-04-the-hot-troll-deviation/\">Series 04 Episode 04 – The Hot Troll Deviation</a></li>\n",
      "<li class=\"page_item page-item-222\"><a href=\"https://bigbangtrans.wordpress.com/series-4-episode-05-the-desperation-emanation/\">Series 04 Episode 05 – The Desperation Emanation</a></li>\n",
      "<li class=\"page_item page-item-225\"><a href=\"https://bigbangtrans.wordpress.com/series-4-episode-06-the-irish-pub-formulation/\">Series 04 Episode 06 – The Irish Pub Formulation</a></li>\n",
      "<li class=\"page_item page-item-228\"><a href=\"https://bigbangtrans.wordpress.com/series-4-episode-07-the-apology-insufficiency/\">Series 04 Episode 07 – The Apology Insufficiency</a></li>\n",
      "<li class=\"page_item page-item-230\"><a href=\"https://bigbangtrans.wordpress.com/series-4-episode-08-the-21-second-excitation/\">Series 04 Episode 08 – The 21 Second Excitation</a></li>\n",
      "<li class=\"page_item page-item-233\"><a href=\"https://bigbangtrans.wordpress.com/series-4-episode-09-the-boyfriend-complexity/\">Series 04 Episode 09 – The Boyfriend Complexity</a></li>\n",
      "<li class=\"page_item page-item-236\"><a href=\"https://bigbangtrans.wordpress.com/series-4-episode-10-the-alien-parasite-hypothesis/\">Series 04 Episode 10 – The Alien Parasite Hypothesis</a></li>\n",
      "<li class=\"page_item page-item-238\"><a href=\"https://bigbangtrans.wordpress.com/series-4-episode-11-the-justice-league-recombination/\">Series 04 Episode 11 – The Justice League Recombination</a></li>\n",
      "<li class=\"page_item page-item-240\"><a href=\"https://bigbangtrans.wordpress.com/series-4-episode-12-the-bus-pants-utilization/\">Series 04 Episode 12 – The Bus Pants Utilization</a></li>\n",
      "<li class=\"page_item page-item-244\"><a href=\"https://bigbangtrans.wordpress.com/series-4-episode-13-the-love-car-displacement/\">Series 04 Episode 13 – The Love Car Displacement</a></li>\n",
      "<li class=\"page_item page-item-247\"><a href=\"https://bigbangtrans.wordpress.com/series-4-episode-14-the-thespian-catalyst/\">Series 04 Episode 14 – The Thespian Catalyst</a></li>\n",
      "<li class=\"page_item page-item-250\"><a href=\"https://bigbangtrans.wordpress.com/series-4-episode-15-the-benefactor-factor/\">Series 04 Episode 15 – The Benefactor Factor</a></li>\n",
      "<li class=\"page_item page-item-252\"><a href=\"https://bigbangtrans.wordpress.com/series-4-episode-16-the-cohabitation-formulation/\">Series 04 Episode 16 – The Cohabitation Formulation</a></li>\n",
      "<li class=\"page_item page-item-255\"><a href=\"https://bigbangtrans.wordpress.com/series-4-episode-17-the-toast-derivation/\">Series 04 Episode 17 – The Toast Derivation</a></li>\n",
      "<li class=\"page_item page-item-261\"><a href=\"https://bigbangtrans.wordpress.com/series-4-episode-18-the-prestidigitation-approximation/\">Series 04 Episode 18 – The Prestidigitation Approximation</a></li>\n",
      "<li class=\"page_item page-item-264\"><a href=\"https://bigbangtrans.wordpress.com/series-4-episode-19-the-zarnecki-incursion/\">Series 04 Episode 19 – The Zarnecki Incursion</a></li>\n",
      "<li class=\"page_item page-item-269\"><a href=\"https://bigbangtrans.wordpress.com/series-4-episode-20-the-herb-garden-germination/\">Series 04 Episode 20 – The Herb Garden Germination</a></li>\n",
      "<li class=\"page_item page-item-272\"><a href=\"https://bigbangtrans.wordpress.com/series-4-episode-21-the-agreement-dissection/\">Series 04 Episode 21 – The Agreement Dissection</a></li>\n",
      "<li class=\"page_item page-item-274\"><a href=\"https://bigbangtrans.wordpress.com/series-4-episode-22-the-wildebeest-implementation/\">Series 04 Episode 22 – The Wildebeest Implementation</a></li>\n",
      "<li class=\"page_item page-item-278\"><a href=\"https://bigbangtrans.wordpress.com/series-4-episode-23-the-engagement-reaction/\">Series 04 Episode 23 – The Engagement Reaction</a></li>\n",
      "<li class=\"page_item page-item-280\"><a href=\"https://bigbangtrans.wordpress.com/series-4-episode-24-the-roommate-transmogrification/\">Series 04 Episode 24 – The Roommate Transmogrification</a></li>\n",
      "<li class=\"page_item page-item-286\"><a href=\"https://bigbangtrans.wordpress.com/series-5-episode-01-the-skank-reflex-analysis/\">Series 05 Episode 01 – The Skank Reflex Analysis</a></li>\n",
      "<li class=\"page_item page-item-294\"><a href=\"https://bigbangtrans.wordpress.com/series-5-episode-02-the-infestation-hypothesis/\">Series 05 Episode 02 – The Infestation Hypothesis</a></li>\n",
      "<li class=\"page_item page-item-299\"><a href=\"https://bigbangtrans.wordpress.com/series-5-episode-03-the-pulled-groin-extrapolation/\">Series 05 Episode 03 – The Pulled Groin Extrapolation</a></li>\n",
      "<li class=\"page_item page-item-304\"><a href=\"https://bigbangtrans.wordpress.com/series-5-episode-04-the-wiggly-finger-catalyst/\">Series 05 Episode 04 – The Wiggly Finger Catalyst</a></li>\n",
      "<li class=\"page_item page-item-306\"><a href=\"https://bigbangtrans.wordpress.com/series-5-episode-05-the-russian-rocket-reaction/\">Series 05 Episode 05 – The Russian Rocket Reaction</a></li>\n",
      "<li class=\"page_item page-item-308\"><a href=\"https://bigbangtrans.wordpress.com/series-5-episode-06-the-rhinitis-revelation/\">Series 05 Episode 06 – The Rhinitis Revelation</a></li>\n",
      "<li class=\"page_item page-item-311\"><a href=\"https://bigbangtrans.wordpress.com/series-5-episode-07-the-good-guy-fluctuation/\">Series 05 Episode 07 – The Good Guy Fluctuation</a></li>\n",
      "<li class=\"page_item page-item-313\"><a href=\"https://bigbangtrans.wordpress.com/series-5-episode-08-the-isolation-permutation/\">Series 05 Episode 08 – The Isolation Permutation</a></li>\n",
      "<li class=\"page_item page-item-318\"><a href=\"https://bigbangtrans.wordpress.com/series-5-episode-09-the-ornithophobia-diffusion/\">Series 05 Episode 09 – The Ornithophobia Diffusion</a></li>\n",
      "<li class=\"page_item page-item-326\"><a href=\"https://bigbangtrans.wordpress.com/series-5-episode-10-the-flaming-spittoon-acquisition/\">Series 05 Episode 10 – The Flaming Spittoon Acquisition</a></li>\n",
      "<li class=\"page_item page-item-335\"><a href=\"https://bigbangtrans.wordpress.com/series-5-episode-11-the-speckerman-recurrence/\">Series 05 Episode 11 – The Speckerman Recurrence</a></li>\n",
      "<li class=\"page_item page-item-337\"><a href=\"https://bigbangtrans.wordpress.com/series-5-episode-12-the-shiny-trinket-maneouvre/\">Series 05 Episode 12 – The Shiny Trinket Maneouvre</a></li>\n",
      "<li class=\"page_item page-item-340\"><a href=\"https://bigbangtrans.wordpress.com/series-5-episode-13-the-recombination-hypothesis/\">Series 05 Episode 13 – The Recombination Hypothesis</a></li>\n",
      "<li class=\"page_item page-item-343\"><a href=\"https://bigbangtrans.wordpress.com/series-5-episode-14-the-beta-test-initiation/\">Series 05 Episode 14 – The Beta Test Initiation</a></li>\n",
      "<li class=\"page_item page-item-345\"><a href=\"https://bigbangtrans.wordpress.com/series-5-episode-15-the-friendship-contraction/\">Series 05 Episode 15 – The Friendship Contraction</a></li>\n",
      "<li class=\"page_item page-item-349\"><a href=\"https://bigbangtrans.wordpress.com/series-5-episode-16-the-vacation-solution/\">Series 05 Episode 16 – The Vacation Solution</a></li>\n",
      "<li class=\"page_item page-item-353\"><a href=\"https://bigbangtrans.wordpress.com/series-5-episode-17-the-rothman-disintegration/\">Series 05 Episode 17 – The Rothman Disintegration</a></li>\n",
      "<li class=\"page_item page-item-357\"><a href=\"https://bigbangtrans.wordpress.com/series-5-episode-18-the-werewolf-transformation/\">Series 05 Episode 18 – The Werewolf Transformation</a></li>\n",
      "<li class=\"page_item page-item-360\"><a href=\"https://bigbangtrans.wordpress.com/series-5-episode-19-the-weekend-vortex/\">Series 05 Episode 19 – The Weekend Vortex</a></li>\n",
      "<li class=\"page_item page-item-363\"><a href=\"https://bigbangtrans.wordpress.com/series-5-episode-20-the-transporter-malfunction/\">Series 05 Episode 20 – The Transporter Malfunction</a></li>\n",
      "<li class=\"page_item page-item-366\"><a href=\"https://bigbangtrans.wordpress.com/series-5-episode-21-the-hawking-excitation/\">Series 05 Episode 21 – The Hawking Excitation</a></li>\n",
      "<li class=\"page_item page-item-370\"><a href=\"https://bigbangtrans.wordpress.com/series-5-episode-22-the-stag-convergence/\">Series 05 Episode 22 – The Stag Convergence</a></li>\n",
      "<li class=\"page_item page-item-381\"><a href=\"https://bigbangtrans.wordpress.com/series-5-episode-23-the-launch-acceleration/\">Series 05 Episode 23 – The Launch Acceleration</a></li>\n",
      "<li class=\"page_item page-item-383\"><a href=\"https://bigbangtrans.wordpress.com/series-5-episode-24-the-countdown-reflection/\">Series 05 Episode 24 – The Countdown Reflection</a></li>\n",
      "<li class=\"page_item page-item-388\"><a href=\"https://bigbangtrans.wordpress.com/series-6-episode-01-the-date-night-variable/\">Series 06 Episode 01 – The Date Night Variable</a></li>\n",
      "<li class=\"page_item page-item-391\"><a href=\"https://bigbangtrans.wordpress.com/series-6-episode-02-the-decoupling-fluctuation/\">Series 06 Episode 02 – The Decoupling Fluctuation</a></li>\n",
      "<li class=\"page_item page-item-393\"><a href=\"https://bigbangtrans.wordpress.com/series-6-episode-03-the-higgs-boson-observation/\">Series 06 Episode 03 – The Higgs Boson Observation</a></li>\n",
      "<li class=\"page_item page-item-396\"><a href=\"https://bigbangtrans.wordpress.com/series-6-episode-04-the-re-entry-minimization/\">Series 06 Episode 04 – The Re-Entry Minimization</a></li>\n",
      "<li class=\"page_item page-item-403\"><a href=\"https://bigbangtrans.wordpress.com/series-6-episode-05-the-holographic-excitation/\">Series 06 Episode 05 – The Holographic Excitation</a></li>\n",
      "<li class=\"page_item page-item-405\"><a href=\"https://bigbangtrans.wordpress.com/series-6-episode-06-the-extract-obliteration/\">Series 06 Episode 06 – The Extract Obliteration</a></li>\n",
      "<li class=\"page_item page-item-408\"><a href=\"https://bigbangtrans.wordpress.com/series-6-episode-07-the-habitation-configuration/\">Series 06 Episode 07 – The Habitation Configuration</a></li>\n",
      "<li class=\"page_item page-item-411\"><a href=\"https://bigbangtrans.wordpress.com/series-6-episode-08-the-43-peculiarity/\">Series 06 Episode 08 – The 43 Peculiarity</a></li>\n",
      "<li class=\"page_item page-item-413\"><a href=\"https://bigbangtrans.wordpress.com/series-6-episode-09-the-parking-spot-escalation/\">Series 06 Episode 09 – The Parking Spot Escalation</a></li>\n",
      "<li class=\"page_item page-item-415\"><a href=\"https://bigbangtrans.wordpress.com/series-6-episode-10-the-fish-guts-displacement/\">Series 06 Episode 10 – The Fish Guts Displacement</a></li>\n",
      "<li class=\"page_item page-item-421\"><a href=\"https://bigbangtrans.wordpress.com/series-6-episode-11-the-santa-simulation/\">Series 06 Episode 11 – The Santa Simulation</a></li>\n",
      "<li class=\"page_item page-item-425\"><a href=\"https://bigbangtrans.wordpress.com/series-6-episode-12-the-egg-salad-equivalency/\">Series 06 Episode 12 – The Egg Salad Equivalency</a></li>\n",
      "<li class=\"page_item page-item-429\"><a href=\"https://bigbangtrans.wordpress.com/series-6-episode-13-the-bakersfield-expedition/\">Series 06 Episode 13 – The Bakersfield Expedition</a></li>\n",
      "<li class=\"page_item page-item-431\"><a href=\"https://bigbangtrans.wordpress.com/series-6-episode-14-the-cooperkripke-inversion/\">Series 06 Episode 14 – The Cooper/Kripke Inversion</a></li>\n",
      "<li class=\"page_item page-item-433\"><a href=\"https://bigbangtrans.wordpress.com/series-6-episode-15-the-spoiler-alert-segmentation/\">Series 06 Episode 15 – The Spoiler Alert Segmentation</a></li>\n",
      "<li class=\"page_item page-item-436\"><a href=\"https://bigbangtrans.wordpress.com/series-6-episode-16-the-tangible-affection-proof/\">Series 06 Episode 16 – The Tangible Affection Proof</a></li>\n",
      "<li class=\"page_item page-item-439\"><a href=\"https://bigbangtrans.wordpress.com/series-6-episode-17-the-monster-isolation/\">Series 06 Episode 17 – The Monster Isolation</a></li>\n",
      "<li class=\"page_item page-item-443\"><a href=\"https://bigbangtrans.wordpress.com/series-6-episode-18-the-contractual-obligation-implementation/\">Series 06 Episode 18 – The Contractual Obligation Implementation</a></li>\n",
      "<li class=\"page_item page-item-445\"><a href=\"https://bigbangtrans.wordpress.com/series-6-episode-19-the-closet-reconfiguration/\">Series 06 Episode 19 – The Closet Reconfiguration</a></li>\n",
      "<li class=\"page_item page-item-447\"><a href=\"https://bigbangtrans.wordpress.com/series-6-episode-20-the-tenure-turbulence/\">Series 06 Episode 20 – The Tenure Turbulence</a></li>\n",
      "<li class=\"page_item page-item-449\"><a href=\"https://bigbangtrans.wordpress.com/series-6-episode-21-the-closure-alternative/\">Series 06 Episode 21 – The Closure Alternative</a></li>\n",
      "<li class=\"page_item page-item-451\"><a href=\"https://bigbangtrans.wordpress.com/series-6-episode-22-the-proton-resurgence/\">Series 06 Episode 22 – The Proton Resurgence</a></li>\n",
      "<li class=\"page_item page-item-456\"><a href=\"https://bigbangtrans.wordpress.com/series-06-episode-23-the-love-spell-potential/\">Series 06 Episode 23 – The Love Spell Potential</a></li>\n",
      "<li class=\"page_item page-item-460\"><a href=\"https://bigbangtrans.wordpress.com/series-06-episode-24-the-bon-voyage-reaction/\">Series 06 Episode 24 – The Bon Voyage Reaction</a></li>\n",
      "<li class=\"page_item page-item-569\"><a href=\"https://bigbangtrans.wordpress.com/series-7-episode-01-the-hofstadter-insufficiency/\">Series 07 Episode 01 – The Hofstadter Insufficiency</a></li>\n",
      "<li class=\"page_item page-item-576\"><a href=\"https://bigbangtrans.wordpress.com/series-7-episode-02-the-deception-verification/\">Series 07 Episode 02 – The Deception Verification</a></li>\n",
      "<li class=\"page_item page-item-597\"><a href=\"https://bigbangtrans.wordpress.com/series-7-episode-03-the-scavenger-vortex/\">Series 07 Episode 03 – The Scavenger Vortex</a></li>\n",
      "<li class=\"page_item page-item-599\"><a href=\"https://bigbangtrans.wordpress.com/series-7-episode-04-the-raiders-minimization/\">Series 07 Episode 04 – The Raiders Minimization</a></li>\n",
      "<li class=\"page_item page-item-608\"><a href=\"https://bigbangtrans.wordpress.com/series-7-episode-05-the-workplace-proximity/\">Series 07 Episode 05 – The Workplace Proximity</a></li>\n",
      "<li class=\"page_item page-item-610\"><a href=\"https://bigbangtrans.wordpress.com/series-7-episode-06-the-romance-resonance/\">Series 07 Episode 06 – The Romance Resonance</a></li>\n",
      "<li class=\"page_item page-item-612\"><a href=\"https://bigbangtrans.wordpress.com/series-7-episode-07-the-proton-displacement/\">Series 07 Episode 07 – The Proton Displacement</a></li>\n",
      "<li class=\"page_item page-item-614\"><a href=\"https://bigbangtrans.wordpress.com/series-7-episode-08-the-itchy-brain-simulation/\">Series 07 Episode 08 – The Itchy Brain Simulation</a></li>\n",
      "<li class=\"page_item page-item-617\"><a href=\"https://bigbangtrans.wordpress.com/series-7-episode-09-the-thanksgiving-decoupling/\">Series 07 Episode 09 – The Thanksgiving Decoupling</a></li>\n",
      "<li class=\"page_item page-item-619\"><a href=\"https://bigbangtrans.wordpress.com/series-7-episode-10-the-discovery-dissipation/\">Series 07 Episode 10 – The Discovery Dissipation</a></li>\n",
      "<li class=\"page_item page-item-621\"><a href=\"https://bigbangtrans.wordpress.com/series-7-episode-11-the-cooper-extraction/\">Series 07 Episode 11 – The Cooper Extraction</a></li>\n",
      "<li class=\"page_item page-item-623\"><a href=\"https://bigbangtrans.wordpress.com/series-7-episode-12-the-hesitation-ramification/\">Series 07 Episode 12 – The Hesitation Ramification</a></li>\n",
      "<li class=\"page_item page-item-625\"><a href=\"https://bigbangtrans.wordpress.com/series-7-episode-13-the-occupation-recalibration/\">Series 07 Episode 13 – The Occupation Recalibration</a></li>\n",
      "<li class=\"page_item page-item-627\"><a href=\"https://bigbangtrans.wordpress.com/series-7-episode-14-the-convention-conundrum/\">Series 07 Episode 14 – The Convention Conundrum</a></li>\n",
      "<li class=\"page_item page-item-629\"><a href=\"https://bigbangtrans.wordpress.com/series-7-episode-15-the-locomotive-manipulation/\">Series 07 Episode 15 – The Locomotive Manipulation</a></li>\n",
      "<li class=\"page_item page-item-635\"><a href=\"https://bigbangtrans.wordpress.com/series-7-episode-16-the-table-polarisation/\">Series 07 Episode 16 – The Table Polarisation</a></li>\n",
      "<li class=\"page_item page-item-639\"><a href=\"https://bigbangtrans.wordpress.com/series-7-episode-17-the-friendship-turbulence/\">Series 07 Episode 17 – The Friendship Turbulence</a></li>\n",
      "<li class=\"page_item page-item-641\"><a href=\"https://bigbangtrans.wordpress.com/series-7-episode-18-the-mommy-observation/\">Series 07 Episode 18 – The Mommy Observation</a></li>\n",
      "<li class=\"page_item page-item-643\"><a href=\"https://bigbangtrans.wordpress.com/series-7-episode-19-the-indecision-amalgamation/\">Series 07 Episode 19 – The Indecision Amalgamation</a></li>\n",
      "<li class=\"page_item page-item-645\"><a href=\"https://bigbangtrans.wordpress.com/series-7-episode-20-the-relationship-diremption/\">Series 07 Episode 20 – The Relationship Diremption</a></li>\n",
      "<li class=\"page_item page-item-648\"><a href=\"https://bigbangtrans.wordpress.com/series-7-episode-21-the-anything-can-happen-recurrence/\">Series 07 Episode 21 – The Anything Can Happen Recurrence</a></li>\n",
      "<li class=\"page_item page-item-650\"><a href=\"https://bigbangtrans.wordpress.com/series-7-episode-22-the-proton-transmogrification/\">Series 07 Episode 22 – The Proton Transmogrification</a></li>\n",
      "<li class=\"page_item page-item-654\"><a href=\"https://bigbangtrans.wordpress.com/series-7-episode-23-the-gorilla-dissolution/\">Series 07 Episode 23 – The Gorilla Dissolution</a></li>\n",
      "<li class=\"page_item page-item-656\"><a href=\"https://bigbangtrans.wordpress.com/series-7-episode-24-the-status-quo-combustion/\">Series 07 Episode 24 – The Status Quo Combustion</a></li>\n",
      "<li class=\"page_item page-item-659\"><a href=\"https://bigbangtrans.wordpress.com/series-8-episode-01-the-locomotion-interruption/\">Series 08 Episode 01 – The Locomotion Interruption</a></li>\n",
      "<li class=\"page_item page-item-661\"><a href=\"https://bigbangtrans.wordpress.com/series-8-episode-02-the-junior-professor-solution/\">Series 08 Episode 02 – The Junior Professor Solution</a></li>\n",
      "<li class=\"page_item page-item-665\"><a href=\"https://bigbangtrans.wordpress.com/series-8-episode-03-the-first-pitch-insufficiency/\">Series 08 Episode 03 – The First Pitch Insufficiency</a></li>\n",
      "<li class=\"page_item page-item-667\"><a href=\"https://bigbangtrans.wordpress.com/series-8-episode-04-the-hook-up-reverbration/\">Series 08 Episode 04 – The Hook-Up Reverbration</a></li>\n",
      "<li class=\"page_item page-item-669\"><a href=\"https://bigbangtrans.wordpress.com/series-7-episode-05-the-focus-attenuation/\">Series 08 Episode 05 – The Focus Attenuation</a></li>\n",
      "<li class=\"page_item page-item-672\"><a href=\"https://bigbangtrans.wordpress.com/series-8-episode-06-the-expedition-approximation/\">Series 08 Episode 06 – The Expedition Approximation</a></li>\n",
      "<li class=\"page_item page-item-675\"><a href=\"https://bigbangtrans.wordpress.com/series-8-episode-07-the-misinterpretation-agitation/\">Series 08 Episode 07 – The Misinterpretation Agitation</a></li>\n",
      "<li class=\"page_item page-item-677\"><a href=\"https://bigbangtrans.wordpress.com/series-8-episode-08-the-prom-equivalency/\">Series 08 Episode 08 – The Prom Equivalency</a></li>\n",
      "<li class=\"page_item page-item-679\"><a href=\"https://bigbangtrans.wordpress.com/series-8-episode-09-the-septum-deviation/\">Series 08 Episode 09 – The Septum Deviation</a></li>\n",
      "<li class=\"page_item page-item-681\"><a href=\"https://bigbangtrans.wordpress.com/series-8-episode-10-the-champagne-reflection/\">Series 08 Episode 10 – The Champagne Reflection</a></li>\n",
      "<li class=\"page_item page-item-683\"><a href=\"https://bigbangtrans.wordpress.com/series-8-episode-11-the-clean-room-infiltration/\">Series 08 Episode 11 – The Clean Room Infiltration</a></li>\n",
      "<li class=\"page_item page-item-685\"><a href=\"https://bigbangtrans.wordpress.com/series-8-episode-12-the-space-probe-disintegration/\">Series 08 Episode 12 – The Space Probe Disintegration</a></li>\n",
      "<li class=\"page_item page-item-687\"><a href=\"https://bigbangtrans.wordpress.com/series-8-episode-13-the-anxiety-optimisation/\">Series 08 Episode 13 – The Anxiety Optimisation</a></li>\n",
      "<li class=\"page_item page-item-689\"><a href=\"https://bigbangtrans.wordpress.com/series-8-episode-14-the-troll-manifestation/\">Series 08 Episode 14 – The Troll Manifestation</a></li>\n",
      "<li class=\"page_item page-item-691\"><a href=\"https://bigbangtrans.wordpress.com/series-8-episode-15-the-comic-book-store-regeneration/\">Series 08 Episode 15 – The Comic Book Store Regeneration</a></li>\n",
      "<li class=\"page_item page-item-693\"><a href=\"https://bigbangtrans.wordpress.com/series-8-episode-16-the-intimacy-acceleration/\">Series 08 Episode 16 – The Intimacy Acceleration</a></li>\n",
      "<li class=\"page_item page-item-695\"><a href=\"https://bigbangtrans.wordpress.com/series-8-episode-17-the-colonization-application/\">Series 08 Episode 17 – The Colonization Application</a></li>\n",
      "<li class=\"page_item page-item-697\"><a href=\"https://bigbangtrans.wordpress.com/series-8-episode-18-the-leftover-thermalization/\">Series 08 Episode 18 – The Leftover Thermalization</a></li>\n",
      "<li class=\"page_item page-item-699\"><a href=\"https://bigbangtrans.wordpress.com/series-8-episode-19-the-skywalker-incursion/\">Series 08 Episode 19 – The Skywalker Incursion</a></li>\n",
      "<li class=\"page_item page-item-701\"><a href=\"https://bigbangtrans.wordpress.com/series-8-episode-20-the-fortification-implementation/\">Series 08 Episode 20 – The Fortification Implementation</a></li>\n",
      "<li class=\"page_item page-item-703\"><a href=\"https://bigbangtrans.wordpress.com/series-8-episode-21-the-communication-deterioration/\">Series 08 Episode 21 – The Communication Deterioration</a></li>\n",
      "<li class=\"page_item page-item-705\"><a href=\"https://bigbangtrans.wordpress.com/series-8-episode-22-the-graduation-transmission/\">Series 08 Episode 22 – The Graduation Transmission</a></li>\n",
      "<li class=\"page_item page-item-707\"><a href=\"https://bigbangtrans.wordpress.com/series-8-episode-23-the-maternal-combustion/\">Series 08 Episode 23 – The Maternal Combustion</a></li>\n",
      "<li class=\"page_item page-item-710\"><a href=\"https://bigbangtrans.wordpress.com/series-8-episode-24-the-commitment-determination/\">Series 08 Episode 24 – The Commitment Determination</a></li>\n",
      "<li class=\"page_item page-item-712\"><a href=\"https://bigbangtrans.wordpress.com/series-9-episode-01-the-matrimonial-momentum/\">Series 09 Episode 01 – The Matrimonial Momentum</a></li>\n",
      "<li class=\"page_item page-item-714\"><a href=\"https://bigbangtrans.wordpress.com/series-9-episode-02-the-separation-oscillation/\">Series 09 Episode 02 – The Separation Oscillation</a></li>\n",
      "<li class=\"page_item page-item-717\"><a href=\"https://bigbangtrans.wordpress.com/series-9-episode-03-the-batchelor-party-corrosion/\">Series 09 Episode 03 – The Batchelor Party Corrosion</a></li>\n",
      "<li class=\"page_item page-item-718\"><a href=\"https://bigbangtrans.wordpress.com/series-9-episode-04-the-2003-approximation/\">Series 09 Episode 04 – The 2003 Approximation</a></li>\n",
      "<li class=\"page_item page-item-720\"><a href=\"https://bigbangtrans.wordpress.com/series-9-episode-05-the-perspiration-implementation/\">Series 09 Episode 05 – The Perspiration Implementation</a></li>\n",
      "<li class=\"page_item page-item-722\"><a href=\"https://bigbangtrans.wordpress.com/series-9-episode-06-the-helium-insufficiency/\">Series 09 Episode 06 – The Helium Insufficiency</a></li>\n",
      "<li class=\"page_item page-item-725\"><a href=\"https://bigbangtrans.wordpress.com/series-9-episode-07-the-spock-resonance/\">Series 09 Episode 07 – The Spock Resonance</a></li>\n",
      "<li class=\"page_item page-item-726\"><a href=\"https://bigbangtrans.wordpress.com/series-9-episode-08-the-mystery-date-observation/\">Series 09 Episode 08 – The Mystery Date Observation</a></li>\n",
      "<li class=\"page_item page-item-728\"><a href=\"https://bigbangtrans.wordpress.com/series-9-episode-09-the-platonic-permutation/\">Series 09 Episode 09 – The Platonic Permutation</a></li>\n",
      "<li class=\"page_item page-item-732\"><a href=\"https://bigbangtrans.wordpress.com/series-9-episode-10-the-earworm-reverberation/\">Series 09 Episode 10 – The Earworm Reverberation</a></li>\n",
      "<li class=\"page_item page-item-734\"><a href=\"https://bigbangtrans.wordpress.com/series-9-episode-11-the-opening-night-excitation/\">Series 09 Episode 11 – The Opening Night Excitation</a></li>\n",
      "<li class=\"page_item page-item-736\"><a href=\"https://bigbangtrans.wordpress.com/series-9-episode-12-the-sales-call-sublimation/\">Series 09 Episode 12 – The Sales Call Sublimation</a></li>\n",
      "<li class=\"page_item page-item-738\"><a href=\"https://bigbangtrans.wordpress.com/series-9-episode-13-the-empathy-optimisation/\">Series 09 Episode 13 – The Empathy Optimisation</a></li>\n",
      "<li class=\"page_item page-item-740\"><a href=\"https://bigbangtrans.wordpress.com/series-9-episode-14-the-meemaw-materialisation/\">Series 09 Episode 14 – The Meemaw Materialisation</a></li>\n",
      "<li class=\"page_item page-item-743\"><a href=\"https://bigbangtrans.wordpress.com/series-9-episode-15-the-valentino-submergence/\">Series 09 Episode 15 – The Valentino Submergence</a></li>\n",
      "<li class=\"page_item page-item-744\"><a href=\"https://bigbangtrans.wordpress.com/series-9-episode-16-the-positive-negative-reaction/\">Series 09 Episode 16 – The Positive Negative Reaction</a></li>\n",
      "<li class=\"page_item page-item-746\"><a href=\"https://bigbangtrans.wordpress.com/series-9-episode-17-the-celebration-experimentation/\">Series 09 Episode 17 – The Celebration Experimentation</a></li>\n",
      "<li class=\"page_item page-item-748\"><a href=\"https://bigbangtrans.wordpress.com/series-9-episode-18-the-application-deterioration/\">Series 09 Episode 18 – The Application Deterioration</a></li>\n",
      "<li class=\"page_item page-item-750\"><a href=\"https://bigbangtrans.wordpress.com/series-9-episode-19-the-solder-excursion-diversion/\">Series 09 Episode 19 – The Solder Excursion Diversion</a></li>\n",
      "<li class=\"page_item page-item-752\"><a href=\"https://bigbangtrans.wordpress.com/series-9-episode-20-the-big-bear-precipitation/\">Series 09 Episode 20 – The Big Bear Precipitation</a></li>\n",
      "<li class=\"page_item page-item-754\"><a href=\"https://bigbangtrans.wordpress.com/series-9-episode-21-the-viewing-party-combustion/\">Series 09 Episode 21 – The Viewing Party Combustion</a></li>\n",
      "<li class=\"page_item page-item-756\"><a href=\"https://bigbangtrans.wordpress.com/series-9-episode-22-the-fermentation-bifurcation/\">Series 09 Episode 22 – The Fermentation Bifurcation</a></li>\n",
      "<li class=\"page_item page-item-758\"><a href=\"https://bigbangtrans.wordpress.com/series-9-episode-23-the-line-substitution-solution/\">Series 09 Episode 23 – The Line Substitution Solution</a></li>\n",
      "<li class=\"page_item page-item-760\"><a href=\"https://bigbangtrans.wordpress.com/series-9-episode-24-the-convergence-convergence/\">Series 09 Episode 24 – The Convergence Convergence</a></li>\n",
      "<li class=\"page_item page-item-1024\"><a href=\"https://bigbangtrans.wordpress.com/series-10-episode-01-the-conjugal-conjecture/\">Series 10 Episode 01 – The Conjugal Conjecture</a></li>\n",
      "<li class=\"page_item page-item-1026\"><a href=\"https://bigbangtrans.wordpress.com/series-10-episode-02-the-military-miniturization/\">Series 10 Episode 02 – The Military Miniturization</a></li>\n",
      "<li class=\"page_item page-item-1029\"><a href=\"https://bigbangtrans.wordpress.com/series-10-episode-03-the-dependence-transcendence/\">Series 10 Episode 03 -The Dependence Transcendence</a></li>\n",
      "<li class=\"page_item page-item-1031\"><a href=\"https://bigbangtrans.wordpress.com/series-10-episode-04-the-cohabitation-experimentation/\">Series 10 Episode 04 – The Cohabitation Experimentation</a></li>\n",
      "<li class=\"page_item page-item-1033\"><a href=\"https://bigbangtrans.wordpress.com/series-10-episode-05-the-hot-tub-contamination/\">Series 10 Episode 05 – The Hot Tub Contamination</a></li>\n",
      "<li class=\"page_item page-item-1035\"><a href=\"https://bigbangtrans.wordpress.com/series-10-episode-06-the-foetal-kick-catalyst/\">Series 10 Episode 06 – The Foetal Kick Catalyst</a></li>\n",
      "<li class=\"page_item page-item-1038\"><a href=\"https://bigbangtrans.wordpress.com/series-10-episode-07-the-veracity-elasticity/\">Series 10 Episode 07 – The Veracity Elasticity</a></li>\n",
      "<li class=\"page_item page-item-1041\"><a href=\"https://bigbangtrans.wordpress.com/series-10-episode-08-the-brain-bowl-incubation/\">Series 10 Episode 08 – The Brain Bowl Incubation</a></li>\n",
      "<li class=\"page_item page-item-1044\"><a href=\"https://bigbangtrans.wordpress.com/series-10-episode-09-the-geology-elevation/\">Series 10 Episode 09 – The Geology Elevation</a></li>\n",
      "<li class=\"page_item page-item-1046\"><a href=\"https://bigbangtrans.wordpress.com/series-10-episode-10-the-property-division-collision/\">Series 10 Episode 10 – The Property Division Collision</a></li>\n",
      "<li class=\"page_item page-item-1049\"><a href=\"https://bigbangtrans.wordpress.com/series-10-episode-11-the-birthday-synchronicity/\">Series 10 Episode 11 – The Birthday Synchronicity</a></li>\n",
      "<li class=\"page_item page-item-1050\"><a href=\"https://bigbangtrans.wordpress.com/series-10-episode-12-the-holiday-summation/\">Series 10 Episode 12 – The Holiday Summation</a></li>\n",
      "<li class=\"page_item page-item-1052\"><a href=\"https://bigbangtrans.wordpress.com/series-10-episode-13-the-romance-recalibration/\">Series 10 Episode 13 – The Romance Recalibration</a></li>\n",
      "<li class=\"page_item page-item-1056\"><a href=\"https://bigbangtrans.wordpress.com/series-10-episode-14-the-emotion-detection-automation/\">Series 10 Episode 14 – The Emotion Detection Automation</a></li>\n",
      "<li class=\"page_item page-item-1059\"><a href=\"https://bigbangtrans.wordpress.com/series-10-episode-15-the-locomotion-reverberation/\">Series 10 Episode 15 – The Locomotion Reverberation</a></li>\n",
      "<li class=\"page_item page-item-1061\"><a href=\"https://bigbangtrans.wordpress.com/series-10-episode-16-the-allowance-evaporation/\">Series 10 Episode 16 – The Allowance Evaporation</a></li>\n",
      "<li class=\"page_item page-item-1063\"><a href=\"https://bigbangtrans.wordpress.com/series-10-episode-17-the-comic-con-conundrum/\">Series 10 Episode 17 – The Comic-Con Conundrum</a></li>\n",
      "<li class=\"page_item page-item-1065\"><a href=\"https://bigbangtrans.wordpress.com/series-10-episode-18-the-escape-hatch-identification/\">Series 10 Episode 18 – The Escape Hatch Identification</a></li>\n",
      "<li class=\"page_item page-item-1067\"><a href=\"https://bigbangtrans.wordpress.com/series-10-episode-19-the-collaboration-fluctuation/\">Series 10 Episode 19 – The Collaboration Fluctuation</a></li>\n",
      "<li class=\"page_item page-item-1069\"><a href=\"https://bigbangtrans.wordpress.com/series-10-episode-20-the-recollection-dissipation/\">Series 10 Episode 20 – The Recollection Dissipation</a></li>\n",
      "<li class=\"page_item page-item-1073\"><a href=\"https://bigbangtrans.wordpress.com/series-10-episode-21-the-separation-agitation/\">Series 10 Episode 21 – The Separation Agitation</a></li>\n",
      "<li class=\"page_item page-item-1075\"><a href=\"https://bigbangtrans.wordpress.com/series-10-episode-22-the-cognition-regeneration/\">Series 10 Episode 22 – The Cognition Regeneration</a></li>\n",
      "<li class=\"page_item page-item-1077\"><a href=\"https://bigbangtrans.wordpress.com/series-10-episode-23-the-gyroscopic-collapse/\">Series 10 Episode 23 – The Gyroscopic Collapse</a></li>\n",
      "<li class=\"page_item page-item-1079\"><a href=\"https://bigbangtrans.wordpress.com/series-10-episode-24-the-long-distance-dissonance/\">Series 10 Episode 24 – The Long Distance Dissonance</a></li>\n",
      "</ul>\n",
      "</div> <div id=\"atatags-286348-66c3f9df571e3\"></div>\n",
      "<script>\n",
      "\t\t\t\t__ATA.cmd.push(function() {\n",
      "\t\t\t\t\t__ATA.initDynamicSlot({\n",
      "\t\t\t\t\t\tid: 'atatags-286348-66c3f9df571e3',\n",
      "\t\t\t\t\t\tlocation: 140,\n",
      "\t\t\t\t\t\tformFactor: '003',\n",
      "\t\t\t\t\t\tlabel: {\n",
      "\t\t\t\t\t\t\ttext: 'Advertisements',\n",
      "\t\t\t\t\t\t},\n",
      "\t\t\t\t\t\tcreative: {\n",
      "\t\t\t\t\t\t\treportAd: {\n",
      "\t\t\t\t\t\t\t\ttext: 'Report this ad',\n",
      "\t\t\t\t\t\t\t},\n",
      "\t\t\t\t\t\t\tprivacySettings: {\n",
      "\t\t\t\t\t\t\t\ttext: 'Privacy',\n",
      "\t\t\t\t\t\t\t\t\n",
      "\t\t\t\t\t\t\t}\n",
      "\t\t\t\t\t\t}\n",
      "\t\t\t\t\t});\n",
      "\t\t\t\t});\n",
      "\t\t\t</script>\n",
      "</div>\n"
     ]
    }
   ],
   "source": [
    "sidebar = soup.find('div', id='sidebar')\n",
    "print(sidebar)"
   ]
  },
  {
   "cell_type": "code",
   "execution_count": 17,
   "metadata": {},
   "outputs": [
    {
     "name": "stdout",
     "output_type": "stream",
     "text": [
      "[<li class=\"page_item page-item-2\"><a href=\"https://bigbangtrans.wordpress.com/about/\">About</a></li>, <li class=\"page_item page-item-3\"><a href=\"https://bigbangtrans.wordpress.com/series-1-episode-1-pilot-episode/\">Series 01 Episode 01 – Pilot Episode</a></li>, <li class=\"page_item page-item-5\"><a href=\"https://bigbangtrans.wordpress.com/series-1-episode-2-the-big-bran-hypothesis/\">Series 01 Episode 02 – The Big Bran Hypothesis</a></li>, <li class=\"page_item page-item-7\"><a href=\"https://bigbangtrans.wordpress.com/series-1-episode-3-the-fuzzy-boots-corollary/\">Series 01 Episode 03 – The Fuzzy Boots Corollary</a></li>, <li class=\"page_item page-item-9\"><a href=\"https://bigbangtrans.wordpress.com/series-1-episode-4-the-luminous-fish-effect/\">Series 01 Episode 04 – The Luminous Fish Effect</a></li>, <li class=\"page_item page-item-11\"><a href=\"https://bigbangtrans.wordpress.com/series-1-episode-5-the-hamburger-postulate/\">Series 01 Episode 05 – The Hamburger Postulate</a></li>, <li class=\"page_item page-item-21\"><a href=\"https://bigbangtrans.wordpress.com/series-1-episode-6-the-middle-earth-paradigm/\">Series 01 Episode 06 – The Middle Earth Paradigm</a></li>, <li class=\"page_item page-item-28\"><a href=\"https://bigbangtrans.wordpress.com/series-1-episode-7-the-dumpling-paradox/\">Series 01 Episode 07 – The Dumpling Paradox</a></li>, <li class=\"page_item page-item-30\"><a href=\"https://bigbangtrans.wordpress.com/series-1-episode-8-the-grasshopper-experiment/\">Series 01 Episode 08 – The Grasshopper Experiment</a></li>, <li class=\"page_item page-item-33\"><a href=\"https://bigbangtrans.wordpress.com/series-1-episode-9-the-cooper-hofstadter-polarization/\">Series 01 Episode 09 – The Cooper-Hofstadter Polarization</a></li>, <li class=\"page_item page-item-35\"><a href=\"https://bigbangtrans.wordpress.com/series-1-episode-10-the-loobenfeld-decay/\">Series 01 Episode 10 – The Loobenfeld Decay</a></li>, <li class=\"page_item page-item-49\"><a href=\"https://bigbangtrans.wordpress.com/series-1-episode-11-the-pancake-batter-anomaly/\">Series 01 Episode 11 – The Pancake Batter Anomaly</a></li>, <li class=\"page_item page-item-47\"><a href=\"https://bigbangtrans.wordpress.com/series-1-episode-12-the-jerusalem-duality/\">Series 01 Episode 12 – The Jerusalem Duality</a></li>, <li class=\"page_item page-item-54\"><a href=\"https://bigbangtrans.wordpress.com/series-1-episode-13-the-bat-jar-conjecture/\">Series 01 Episode 13 – The Bat Jar Conjecture</a></li>, <li class=\"page_item page-item-56\"><a href=\"https://bigbangtrans.wordpress.com/series-1-episode-14-the-nerdvana-annihilation/\">Series 01 Episode 14 – The Nerdvana Annihilation</a></li>, <li class=\"page_item page-item-59\"><a href=\"https://bigbangtrans.wordpress.com/series-1-episode-15-the-porkchop-indeterminacy/\">Series 01 Episode 15 – The Porkchop Indeterminacy</a></li>, <li class=\"page_item page-item-62\"><a href=\"https://bigbangtrans.wordpress.com/series-1-episode-16-the-peanut-reaction/\">Series 01 Episode 16 – The Peanut Reaction</a></li>, <li class=\"page_item page-item-64\"><a href=\"https://bigbangtrans.wordpress.com/series-1-episode-17-the-tangerine-factor/\">Series 01 Episode 17 – The Tangerine Factor</a></li>, <li class=\"page_item page-item-66\"><a href=\"https://bigbangtrans.wordpress.com/series-2-episode-01-the-bad-fish-paradigm/\">Series 02 Episode 01 – The Bad Fish Paradigm</a></li>, <li class=\"page_item page-item-68\"><a href=\"https://bigbangtrans.wordpress.com/series-2-episode-02-the-codpiece-topology/\">Series 02 Episode 02 – The Codpiece Topology</a></li>, <li class=\"page_item page-item-70\"><a href=\"https://bigbangtrans.wordpress.com/series-2-episode-03-the-barbarian-sublimation/\">Series 02 Episode 03 – The Barbarian Sublimation</a></li>, <li class=\"page_item page-item-72\"><a href=\"https://bigbangtrans.wordpress.com/series-2-episode-04-the-griffin-equivalency/\">Series 02 Episode 04 – The Griffin Equivalency</a></li>, <li class=\"page_item page-item-81\"><a href=\"https://bigbangtrans.wordpress.com/series-2-episode-5-the-euclid-alternative/\">Series 02 Episode 05 – The Euclid Alternative</a></li>, <li class=\"page_item page-item-90\"><a href=\"https://bigbangtrans.wordpress.com/series-2-episode-06-the-cooper-nowitzki-theorem-2/\">Series 02 Episode 06 – The Cooper-Nowitzki Theorem</a></li>, <li class=\"page_item page-item-93\"><a href=\"https://bigbangtrans.wordpress.com/series-2-episode-07-the-panty-pinata-polarization/\">Series 02 Episode 07 – The Panty Pinata Polarization</a></li>, <li class=\"page_item page-item-96\"><a href=\"https://bigbangtrans.wordpress.com/series-1-episode-08-the-lizard-spock-expansion/\">Series 02 Episode 08 – The Lizard-Spock Expansion</a></li>, <li class=\"page_item page-item-100\"><a href=\"https://bigbangtrans.wordpress.com/series-2-episode-09-the-white-asparagus-triangulation/\">Series 02 Episode 09 – The White Asparagus Triangulation</a></li>, <li class=\"page_item page-item-103\"><a href=\"https://bigbangtrans.wordpress.com/series-2-episode-11-the-vartabedian-conundrum/\">Series 02 Episode 10 – The Vartabedian Conundrum</a></li>, <li class=\"page_item page-item-106\"><a href=\"https://bigbangtrans.wordpress.com/series-2-episode-11-the-bath-item-gift-hypothesis/\">Series 02 Episode 11 – The Bath Item Gift Hypothesis</a></li>, <li class=\"page_item page-item-108\"><a href=\"https://bigbangtrans.wordpress.com/series-2-episode-12-the-killer-robot-instability/\">Series 02 Episode 12 – The Killer Robot Instability</a></li>, <li class=\"page_item page-item-110\"><a href=\"https://bigbangtrans.wordpress.com/series-2-episode-13-the-friendship-algorithm/\">Series 02 Episode 13 – The Friendship Algorithm</a></li>, <li class=\"page_item page-item-118\"><a href=\"https://bigbangtrans.wordpress.com/series-2-episode-14-the-financial-permeability-2/\">Series 02 Episode 14 – The Financial Permeability</a></li>, <li class=\"page_item page-item-120\"><a href=\"https://bigbangtrans.wordpress.com/series-2-episode-15-the-maternal-capacitance/\">Series 02 Episode 15 – The Maternal Capacitance</a></li>, <li class=\"page_item page-item-127\"><a href=\"https://bigbangtrans.wordpress.com/series-2-episode-16-the-cushion-saturation-3/\">Series 02 Episode 16 – The Cushion Saturation</a></li>, <li class=\"page_item page-item-131\"><a href=\"https://bigbangtrans.wordpress.com/series-2-episode-17-the-terminator-decoupling/\">Series 02 Episode 17 – The Terminator Decoupling</a></li>, <li class=\"page_item page-item-133\"><a href=\"https://bigbangtrans.wordpress.com/series-2-episode-18-the-work-song-nanocluster/\">Series 02 Episode 18 – The Work Song Nanocluster</a></li>, <li class=\"page_item page-item-135\"><a href=\"https://bigbangtrans.wordpress.com/series-2-episode-19-the-dead-hooker-juxtaposition/\">Series 02 Episode 19 – The Dead Hooker Juxtaposition</a></li>, <li class=\"page_item page-item-137\"><a href=\"https://bigbangtrans.wordpress.com/series-2-episode-20-the-hofstadter-isotope/\">Series 02 Episode 20 – The Hofstadter Isotope</a></li>, <li class=\"page_item page-item-139\"><a href=\"https://bigbangtrans.wordpress.com/series-2-episode-21-the-vegas-renormalization/\">Series 02 Episode 21 – The Vegas Renormalization</a></li>, <li class=\"page_item page-item-142\"><a href=\"https://bigbangtrans.wordpress.com/series-2-episode-22-the-classified-materials-turbulence/\">Series 02 Episode 22 – The Classified Materials Turbulence</a></li>, <li class=\"page_item page-item-145\"><a href=\"https://bigbangtrans.wordpress.com/series-2-episode-23-the-monopolar-expedition/\">Series 02 Episode 23 – The Monopolar Expedition</a></li>, <li class=\"page_item page-item-148\"><a href=\"https://bigbangtrans.wordpress.com/series-3-episode-01-the-electric-can-opener-fluctuation/\">Series 03 Episode 01 – The Electric Can Opener Fluctuation</a></li>, <li class=\"page_item page-item-150\"><a href=\"https://bigbangtrans.wordpress.com/series-3-episode-02-the-jiminy-conjecture/\">Series 03 Episode 02 – The Jiminy Conjecture</a></li>, <li class=\"page_item page-item-152\"><a href=\"https://bigbangtrans.wordpress.com/series-3-episode-03-the-gothowitz-deviation/\">Series 03 Episode 03 – The Gothowitz Deviation</a></li>, <li class=\"page_item page-item-154\"><a href=\"https://bigbangtrans.wordpress.com/series-3-episode-04-the-pirate-solution/\">Series 03 Episode 04 – The Pirate Solution</a></li>, <li class=\"page_item page-item-157\"><a href=\"https://bigbangtrans.wordpress.com/series-3-episode-05-the-creepy-candy-coating-corollary/\">Series 03 Episode 05 – The Creepy Candy Coating Corollary</a></li>, <li class=\"page_item page-item-159\"><a href=\"https://bigbangtrans.wordpress.com/series-3-episode-06-the-cornhusker-vortex/\">Series 03 Episode 06 – The Cornhusker Vortex</a></li>, <li class=\"page_item page-item-162\"><a href=\"https://bigbangtrans.wordpress.com/series-3-episode-07-the-guitarist-amplification/\">Series 03 Episode 07 – The Guitarist Amplification</a></li>, <li class=\"page_item page-item-164\"><a href=\"https://bigbangtrans.wordpress.com/series-3-episode-08-the-adhesive-duck-deficiency/\">Series 03 Episode 08 – The Adhesive Duck Deficiency</a></li>, <li class=\"page_item page-item-166\"><a href=\"https://bigbangtrans.wordpress.com/series-3-episode-09-the-vengeance-formulation/\">Series 03 Episode 09 – The Vengeance Formulation</a></li>, <li class=\"page_item page-item-168\"><a href=\"https://bigbangtrans.wordpress.com/series-3-episode-10-the-gorilla-experiment/\">Series 03 Episode 10 – The Gorilla Experiment</a></li>, <li class=\"page_item page-item-170\"><a href=\"https://bigbangtrans.wordpress.com/series-3-episode-11-the-maternal-congruence/\">Series 03 Episode 11 – The Maternal Congruence</a></li>, <li class=\"page_item page-item-172\"><a href=\"https://bigbangtrans.wordpress.com/series-3-episode-12-the-psychic-vortex/\">Series 03 Episode 12 – The Psychic Vortex</a></li>, <li class=\"page_item page-item-173\"><a href=\"https://bigbangtrans.wordpress.com/series-3-episode-13-the-bozeman-reaction/\">Series 03 Episode 13 – The Bozeman Reaction</a></li>, <li class=\"page_item page-item-174\"><a href=\"https://bigbangtrans.wordpress.com/series-3-episode-14-the-einstein-approximation/\">Series 03 Episode 14 – The Einstein Approximation</a></li>, <li class=\"page_item page-item-176\"><a href=\"https://bigbangtrans.wordpress.com/series-3-episode-15-the-large-hadron-collision/\">Series 03 Episode 15 – The Large Hadron Collision</a></li>, <li class=\"page_item page-item-179\"><a href=\"https://bigbangtrans.wordpress.com/series-3-episode-16-the-excelsior-acquisition/\">Series 03 Episode 16 – The Excelsior Acquisition</a></li>, <li class=\"page_item page-item-184\"><a href=\"https://bigbangtrans.wordpress.com/series-3-episode-17-the-precious-fragmentation/\">Series 03 Episode 17 – The Precious Fragmentation</a></li>, <li class=\"page_item page-item-188\"><a href=\"https://bigbangtrans.wordpress.com/series-3-episode-18-the-pants-alternative/\">Series 03 Episode 18 – The Pants Alternative</a></li>, <li class=\"page_item page-item-190\"><a href=\"https://bigbangtrans.wordpress.com/series-3-episode-19-the-wheaton-recurrence/\">Series 03 Episode 19 – The Wheaton Recurrence</a></li>, <li class=\"page_item page-item-192\"><a href=\"https://bigbangtrans.wordpress.com/series-3-episode-20-the-spaghetti-catalyst/\">Series 03 Episode 20 – The Spaghetti Catalyst</a></li>, <li class=\"page_item page-item-196\"><a href=\"https://bigbangtrans.wordpress.com/series-3-episode-21-the-plimpton-stimulation/\">Series 03 Episode 21 – The Plimpton Stimulation</a></li>, <li class=\"page_item page-item-201\"><a href=\"https://bigbangtrans.wordpress.com/series-3-episode-22-the-staircase-implementation/\">Series 03 Episode 22 – The Staircase Implementation</a></li>, <li class=\"page_item page-item-203\"><a href=\"https://bigbangtrans.wordpress.com/series-3-episode-23-the-lunar-excitation/\">Series 03 Episode 23 – The Lunar Excitation</a></li>, <li class=\"page_item page-item-213\"><a href=\"https://bigbangtrans.wordpress.com/series-4-episode-01-the-robotic-manipulation/\">Series 04 Episode 01 – The Robotic Manipulation</a></li>, <li class=\"page_item page-item-216\"><a href=\"https://bigbangtrans.wordpress.com/series-4-episode-02-the-cruciferous-vegetable-amplification/\">Series 04 Episode 02 – The Cruciferous Vegetable Amplification</a></li>, <li class=\"page_item page-item-218\"><a href=\"https://bigbangtrans.wordpress.com/series-4-episode-03-the-zazzy-substitution/\">Series 04 Episode 03 – The Zazzy Substitution</a></li>, <li class=\"page_item page-item-220\"><a href=\"https://bigbangtrans.wordpress.com/series-4-episode-04-the-hot-troll-deviation/\">Series 04 Episode 04 – The Hot Troll Deviation</a></li>, <li class=\"page_item page-item-222\"><a href=\"https://bigbangtrans.wordpress.com/series-4-episode-05-the-desperation-emanation/\">Series 04 Episode 05 – The Desperation Emanation</a></li>, <li class=\"page_item page-item-225\"><a href=\"https://bigbangtrans.wordpress.com/series-4-episode-06-the-irish-pub-formulation/\">Series 04 Episode 06 – The Irish Pub Formulation</a></li>, <li class=\"page_item page-item-228\"><a href=\"https://bigbangtrans.wordpress.com/series-4-episode-07-the-apology-insufficiency/\">Series 04 Episode 07 – The Apology Insufficiency</a></li>, <li class=\"page_item page-item-230\"><a href=\"https://bigbangtrans.wordpress.com/series-4-episode-08-the-21-second-excitation/\">Series 04 Episode 08 – The 21 Second Excitation</a></li>, <li class=\"page_item page-item-233\"><a href=\"https://bigbangtrans.wordpress.com/series-4-episode-09-the-boyfriend-complexity/\">Series 04 Episode 09 – The Boyfriend Complexity</a></li>, <li class=\"page_item page-item-236\"><a href=\"https://bigbangtrans.wordpress.com/series-4-episode-10-the-alien-parasite-hypothesis/\">Series 04 Episode 10 – The Alien Parasite Hypothesis</a></li>, <li class=\"page_item page-item-238\"><a href=\"https://bigbangtrans.wordpress.com/series-4-episode-11-the-justice-league-recombination/\">Series 04 Episode 11 – The Justice League Recombination</a></li>, <li class=\"page_item page-item-240\"><a href=\"https://bigbangtrans.wordpress.com/series-4-episode-12-the-bus-pants-utilization/\">Series 04 Episode 12 – The Bus Pants Utilization</a></li>, <li class=\"page_item page-item-244\"><a href=\"https://bigbangtrans.wordpress.com/series-4-episode-13-the-love-car-displacement/\">Series 04 Episode 13 – The Love Car Displacement</a></li>, <li class=\"page_item page-item-247\"><a href=\"https://bigbangtrans.wordpress.com/series-4-episode-14-the-thespian-catalyst/\">Series 04 Episode 14 – The Thespian Catalyst</a></li>, <li class=\"page_item page-item-250\"><a href=\"https://bigbangtrans.wordpress.com/series-4-episode-15-the-benefactor-factor/\">Series 04 Episode 15 – The Benefactor Factor</a></li>, <li class=\"page_item page-item-252\"><a href=\"https://bigbangtrans.wordpress.com/series-4-episode-16-the-cohabitation-formulation/\">Series 04 Episode 16 – The Cohabitation Formulation</a></li>, <li class=\"page_item page-item-255\"><a href=\"https://bigbangtrans.wordpress.com/series-4-episode-17-the-toast-derivation/\">Series 04 Episode 17 – The Toast Derivation</a></li>, <li class=\"page_item page-item-261\"><a href=\"https://bigbangtrans.wordpress.com/series-4-episode-18-the-prestidigitation-approximation/\">Series 04 Episode 18 – The Prestidigitation Approximation</a></li>, <li class=\"page_item page-item-264\"><a href=\"https://bigbangtrans.wordpress.com/series-4-episode-19-the-zarnecki-incursion/\">Series 04 Episode 19 – The Zarnecki Incursion</a></li>, <li class=\"page_item page-item-269\"><a href=\"https://bigbangtrans.wordpress.com/series-4-episode-20-the-herb-garden-germination/\">Series 04 Episode 20 – The Herb Garden Germination</a></li>, <li class=\"page_item page-item-272\"><a href=\"https://bigbangtrans.wordpress.com/series-4-episode-21-the-agreement-dissection/\">Series 04 Episode 21 – The Agreement Dissection</a></li>, <li class=\"page_item page-item-274\"><a href=\"https://bigbangtrans.wordpress.com/series-4-episode-22-the-wildebeest-implementation/\">Series 04 Episode 22 – The Wildebeest Implementation</a></li>, <li class=\"page_item page-item-278\"><a href=\"https://bigbangtrans.wordpress.com/series-4-episode-23-the-engagement-reaction/\">Series 04 Episode 23 – The Engagement Reaction</a></li>, <li class=\"page_item page-item-280\"><a href=\"https://bigbangtrans.wordpress.com/series-4-episode-24-the-roommate-transmogrification/\">Series 04 Episode 24 – The Roommate Transmogrification</a></li>, <li class=\"page_item page-item-286\"><a href=\"https://bigbangtrans.wordpress.com/series-5-episode-01-the-skank-reflex-analysis/\">Series 05 Episode 01 – The Skank Reflex Analysis</a></li>, <li class=\"page_item page-item-294\"><a href=\"https://bigbangtrans.wordpress.com/series-5-episode-02-the-infestation-hypothesis/\">Series 05 Episode 02 – The Infestation Hypothesis</a></li>, <li class=\"page_item page-item-299\"><a href=\"https://bigbangtrans.wordpress.com/series-5-episode-03-the-pulled-groin-extrapolation/\">Series 05 Episode 03 – The Pulled Groin Extrapolation</a></li>, <li class=\"page_item page-item-304\"><a href=\"https://bigbangtrans.wordpress.com/series-5-episode-04-the-wiggly-finger-catalyst/\">Series 05 Episode 04 – The Wiggly Finger Catalyst</a></li>, <li class=\"page_item page-item-306\"><a href=\"https://bigbangtrans.wordpress.com/series-5-episode-05-the-russian-rocket-reaction/\">Series 05 Episode 05 – The Russian Rocket Reaction</a></li>, <li class=\"page_item page-item-308\"><a href=\"https://bigbangtrans.wordpress.com/series-5-episode-06-the-rhinitis-revelation/\">Series 05 Episode 06 – The Rhinitis Revelation</a></li>, <li class=\"page_item page-item-311\"><a href=\"https://bigbangtrans.wordpress.com/series-5-episode-07-the-good-guy-fluctuation/\">Series 05 Episode 07 – The Good Guy Fluctuation</a></li>, <li class=\"page_item page-item-313\"><a href=\"https://bigbangtrans.wordpress.com/series-5-episode-08-the-isolation-permutation/\">Series 05 Episode 08 – The Isolation Permutation</a></li>, <li class=\"page_item page-item-318\"><a href=\"https://bigbangtrans.wordpress.com/series-5-episode-09-the-ornithophobia-diffusion/\">Series 05 Episode 09 – The Ornithophobia Diffusion</a></li>, <li class=\"page_item page-item-326\"><a href=\"https://bigbangtrans.wordpress.com/series-5-episode-10-the-flaming-spittoon-acquisition/\">Series 05 Episode 10 – The Flaming Spittoon Acquisition</a></li>, <li class=\"page_item page-item-335\"><a href=\"https://bigbangtrans.wordpress.com/series-5-episode-11-the-speckerman-recurrence/\">Series 05 Episode 11 – The Speckerman Recurrence</a></li>, <li class=\"page_item page-item-337\"><a href=\"https://bigbangtrans.wordpress.com/series-5-episode-12-the-shiny-trinket-maneouvre/\">Series 05 Episode 12 – The Shiny Trinket Maneouvre</a></li>, <li class=\"page_item page-item-340\"><a href=\"https://bigbangtrans.wordpress.com/series-5-episode-13-the-recombination-hypothesis/\">Series 05 Episode 13 – The Recombination Hypothesis</a></li>, <li class=\"page_item page-item-343\"><a href=\"https://bigbangtrans.wordpress.com/series-5-episode-14-the-beta-test-initiation/\">Series 05 Episode 14 – The Beta Test Initiation</a></li>, <li class=\"page_item page-item-345\"><a href=\"https://bigbangtrans.wordpress.com/series-5-episode-15-the-friendship-contraction/\">Series 05 Episode 15 – The Friendship Contraction</a></li>, <li class=\"page_item page-item-349\"><a href=\"https://bigbangtrans.wordpress.com/series-5-episode-16-the-vacation-solution/\">Series 05 Episode 16 – The Vacation Solution</a></li>, <li class=\"page_item page-item-353\"><a href=\"https://bigbangtrans.wordpress.com/series-5-episode-17-the-rothman-disintegration/\">Series 05 Episode 17 – The Rothman Disintegration</a></li>, <li class=\"page_item page-item-357\"><a href=\"https://bigbangtrans.wordpress.com/series-5-episode-18-the-werewolf-transformation/\">Series 05 Episode 18 – The Werewolf Transformation</a></li>, <li class=\"page_item page-item-360\"><a href=\"https://bigbangtrans.wordpress.com/series-5-episode-19-the-weekend-vortex/\">Series 05 Episode 19 – The Weekend Vortex</a></li>, <li class=\"page_item page-item-363\"><a href=\"https://bigbangtrans.wordpress.com/series-5-episode-20-the-transporter-malfunction/\">Series 05 Episode 20 – The Transporter Malfunction</a></li>, <li class=\"page_item page-item-366\"><a href=\"https://bigbangtrans.wordpress.com/series-5-episode-21-the-hawking-excitation/\">Series 05 Episode 21 – The Hawking Excitation</a></li>, <li class=\"page_item page-item-370\"><a href=\"https://bigbangtrans.wordpress.com/series-5-episode-22-the-stag-convergence/\">Series 05 Episode 22 – The Stag Convergence</a></li>, <li class=\"page_item page-item-381\"><a href=\"https://bigbangtrans.wordpress.com/series-5-episode-23-the-launch-acceleration/\">Series 05 Episode 23 – The Launch Acceleration</a></li>, <li class=\"page_item page-item-383\"><a href=\"https://bigbangtrans.wordpress.com/series-5-episode-24-the-countdown-reflection/\">Series 05 Episode 24 – The Countdown Reflection</a></li>, <li class=\"page_item page-item-388\"><a href=\"https://bigbangtrans.wordpress.com/series-6-episode-01-the-date-night-variable/\">Series 06 Episode 01 – The Date Night Variable</a></li>, <li class=\"page_item page-item-391\"><a href=\"https://bigbangtrans.wordpress.com/series-6-episode-02-the-decoupling-fluctuation/\">Series 06 Episode 02 – The Decoupling Fluctuation</a></li>, <li class=\"page_item page-item-393\"><a href=\"https://bigbangtrans.wordpress.com/series-6-episode-03-the-higgs-boson-observation/\">Series 06 Episode 03 – The Higgs Boson Observation</a></li>, <li class=\"page_item page-item-396\"><a href=\"https://bigbangtrans.wordpress.com/series-6-episode-04-the-re-entry-minimization/\">Series 06 Episode 04 – The Re-Entry Minimization</a></li>, <li class=\"page_item page-item-403\"><a href=\"https://bigbangtrans.wordpress.com/series-6-episode-05-the-holographic-excitation/\">Series 06 Episode 05 – The Holographic Excitation</a></li>, <li class=\"page_item page-item-405\"><a href=\"https://bigbangtrans.wordpress.com/series-6-episode-06-the-extract-obliteration/\">Series 06 Episode 06 – The Extract Obliteration</a></li>, <li class=\"page_item page-item-408\"><a href=\"https://bigbangtrans.wordpress.com/series-6-episode-07-the-habitation-configuration/\">Series 06 Episode 07 – The Habitation Configuration</a></li>, <li class=\"page_item page-item-411\"><a href=\"https://bigbangtrans.wordpress.com/series-6-episode-08-the-43-peculiarity/\">Series 06 Episode 08 – The 43 Peculiarity</a></li>, <li class=\"page_item page-item-413\"><a href=\"https://bigbangtrans.wordpress.com/series-6-episode-09-the-parking-spot-escalation/\">Series 06 Episode 09 – The Parking Spot Escalation</a></li>, <li class=\"page_item page-item-415\"><a href=\"https://bigbangtrans.wordpress.com/series-6-episode-10-the-fish-guts-displacement/\">Series 06 Episode 10 – The Fish Guts Displacement</a></li>, <li class=\"page_item page-item-421\"><a href=\"https://bigbangtrans.wordpress.com/series-6-episode-11-the-santa-simulation/\">Series 06 Episode 11 – The Santa Simulation</a></li>, <li class=\"page_item page-item-425\"><a href=\"https://bigbangtrans.wordpress.com/series-6-episode-12-the-egg-salad-equivalency/\">Series 06 Episode 12 – The Egg Salad Equivalency</a></li>, <li class=\"page_item page-item-429\"><a href=\"https://bigbangtrans.wordpress.com/series-6-episode-13-the-bakersfield-expedition/\">Series 06 Episode 13 – The Bakersfield Expedition</a></li>, <li class=\"page_item page-item-431\"><a href=\"https://bigbangtrans.wordpress.com/series-6-episode-14-the-cooperkripke-inversion/\">Series 06 Episode 14 – The Cooper/Kripke Inversion</a></li>, <li class=\"page_item page-item-433\"><a href=\"https://bigbangtrans.wordpress.com/series-6-episode-15-the-spoiler-alert-segmentation/\">Series 06 Episode 15 – The Spoiler Alert Segmentation</a></li>, <li class=\"page_item page-item-436\"><a href=\"https://bigbangtrans.wordpress.com/series-6-episode-16-the-tangible-affection-proof/\">Series 06 Episode 16 – The Tangible Affection Proof</a></li>, <li class=\"page_item page-item-439\"><a href=\"https://bigbangtrans.wordpress.com/series-6-episode-17-the-monster-isolation/\">Series 06 Episode 17 – The Monster Isolation</a></li>, <li class=\"page_item page-item-443\"><a href=\"https://bigbangtrans.wordpress.com/series-6-episode-18-the-contractual-obligation-implementation/\">Series 06 Episode 18 – The Contractual Obligation Implementation</a></li>, <li class=\"page_item page-item-445\"><a href=\"https://bigbangtrans.wordpress.com/series-6-episode-19-the-closet-reconfiguration/\">Series 06 Episode 19 – The Closet Reconfiguration</a></li>, <li class=\"page_item page-item-447\"><a href=\"https://bigbangtrans.wordpress.com/series-6-episode-20-the-tenure-turbulence/\">Series 06 Episode 20 – The Tenure Turbulence</a></li>, <li class=\"page_item page-item-449\"><a href=\"https://bigbangtrans.wordpress.com/series-6-episode-21-the-closure-alternative/\">Series 06 Episode 21 – The Closure Alternative</a></li>, <li class=\"page_item page-item-451\"><a href=\"https://bigbangtrans.wordpress.com/series-6-episode-22-the-proton-resurgence/\">Series 06 Episode 22 – The Proton Resurgence</a></li>, <li class=\"page_item page-item-456\"><a href=\"https://bigbangtrans.wordpress.com/series-06-episode-23-the-love-spell-potential/\">Series 06 Episode 23 – The Love Spell Potential</a></li>, <li class=\"page_item page-item-460\"><a href=\"https://bigbangtrans.wordpress.com/series-06-episode-24-the-bon-voyage-reaction/\">Series 06 Episode 24 – The Bon Voyage Reaction</a></li>, <li class=\"page_item page-item-569\"><a href=\"https://bigbangtrans.wordpress.com/series-7-episode-01-the-hofstadter-insufficiency/\">Series 07 Episode 01 – The Hofstadter Insufficiency</a></li>, <li class=\"page_item page-item-576\"><a href=\"https://bigbangtrans.wordpress.com/series-7-episode-02-the-deception-verification/\">Series 07 Episode 02 – The Deception Verification</a></li>, <li class=\"page_item page-item-597\"><a href=\"https://bigbangtrans.wordpress.com/series-7-episode-03-the-scavenger-vortex/\">Series 07 Episode 03 – The Scavenger Vortex</a></li>, <li class=\"page_item page-item-599\"><a href=\"https://bigbangtrans.wordpress.com/series-7-episode-04-the-raiders-minimization/\">Series 07 Episode 04 – The Raiders Minimization</a></li>, <li class=\"page_item page-item-608\"><a href=\"https://bigbangtrans.wordpress.com/series-7-episode-05-the-workplace-proximity/\">Series 07 Episode 05 – The Workplace Proximity</a></li>, <li class=\"page_item page-item-610\"><a href=\"https://bigbangtrans.wordpress.com/series-7-episode-06-the-romance-resonance/\">Series 07 Episode 06 – The Romance Resonance</a></li>, <li class=\"page_item page-item-612\"><a href=\"https://bigbangtrans.wordpress.com/series-7-episode-07-the-proton-displacement/\">Series 07 Episode 07 – The Proton Displacement</a></li>, <li class=\"page_item page-item-614\"><a href=\"https://bigbangtrans.wordpress.com/series-7-episode-08-the-itchy-brain-simulation/\">Series 07 Episode 08 – The Itchy Brain Simulation</a></li>, <li class=\"page_item page-item-617\"><a href=\"https://bigbangtrans.wordpress.com/series-7-episode-09-the-thanksgiving-decoupling/\">Series 07 Episode 09 – The Thanksgiving Decoupling</a></li>, <li class=\"page_item page-item-619\"><a href=\"https://bigbangtrans.wordpress.com/series-7-episode-10-the-discovery-dissipation/\">Series 07 Episode 10 – The Discovery Dissipation</a></li>, <li class=\"page_item page-item-621\"><a href=\"https://bigbangtrans.wordpress.com/series-7-episode-11-the-cooper-extraction/\">Series 07 Episode 11 – The Cooper Extraction</a></li>, <li class=\"page_item page-item-623\"><a href=\"https://bigbangtrans.wordpress.com/series-7-episode-12-the-hesitation-ramification/\">Series 07 Episode 12 – The Hesitation Ramification</a></li>, <li class=\"page_item page-item-625\"><a href=\"https://bigbangtrans.wordpress.com/series-7-episode-13-the-occupation-recalibration/\">Series 07 Episode 13 – The Occupation Recalibration</a></li>, <li class=\"page_item page-item-627\"><a href=\"https://bigbangtrans.wordpress.com/series-7-episode-14-the-convention-conundrum/\">Series 07 Episode 14 – The Convention Conundrum</a></li>, <li class=\"page_item page-item-629\"><a href=\"https://bigbangtrans.wordpress.com/series-7-episode-15-the-locomotive-manipulation/\">Series 07 Episode 15 – The Locomotive Manipulation</a></li>, <li class=\"page_item page-item-635\"><a href=\"https://bigbangtrans.wordpress.com/series-7-episode-16-the-table-polarisation/\">Series 07 Episode 16 – The Table Polarisation</a></li>, <li class=\"page_item page-item-639\"><a href=\"https://bigbangtrans.wordpress.com/series-7-episode-17-the-friendship-turbulence/\">Series 07 Episode 17 – The Friendship Turbulence</a></li>, <li class=\"page_item page-item-641\"><a href=\"https://bigbangtrans.wordpress.com/series-7-episode-18-the-mommy-observation/\">Series 07 Episode 18 – The Mommy Observation</a></li>, <li class=\"page_item page-item-643\"><a href=\"https://bigbangtrans.wordpress.com/series-7-episode-19-the-indecision-amalgamation/\">Series 07 Episode 19 – The Indecision Amalgamation</a></li>, <li class=\"page_item page-item-645\"><a href=\"https://bigbangtrans.wordpress.com/series-7-episode-20-the-relationship-diremption/\">Series 07 Episode 20 – The Relationship Diremption</a></li>, <li class=\"page_item page-item-648\"><a href=\"https://bigbangtrans.wordpress.com/series-7-episode-21-the-anything-can-happen-recurrence/\">Series 07 Episode 21 – The Anything Can Happen Recurrence</a></li>, <li class=\"page_item page-item-650\"><a href=\"https://bigbangtrans.wordpress.com/series-7-episode-22-the-proton-transmogrification/\">Series 07 Episode 22 – The Proton Transmogrification</a></li>, <li class=\"page_item page-item-654\"><a href=\"https://bigbangtrans.wordpress.com/series-7-episode-23-the-gorilla-dissolution/\">Series 07 Episode 23 – The Gorilla Dissolution</a></li>, <li class=\"page_item page-item-656\"><a href=\"https://bigbangtrans.wordpress.com/series-7-episode-24-the-status-quo-combustion/\">Series 07 Episode 24 – The Status Quo Combustion</a></li>, <li class=\"page_item page-item-659\"><a href=\"https://bigbangtrans.wordpress.com/series-8-episode-01-the-locomotion-interruption/\">Series 08 Episode 01 – The Locomotion Interruption</a></li>, <li class=\"page_item page-item-661\"><a href=\"https://bigbangtrans.wordpress.com/series-8-episode-02-the-junior-professor-solution/\">Series 08 Episode 02 – The Junior Professor Solution</a></li>, <li class=\"page_item page-item-665\"><a href=\"https://bigbangtrans.wordpress.com/series-8-episode-03-the-first-pitch-insufficiency/\">Series 08 Episode 03 – The First Pitch Insufficiency</a></li>, <li class=\"page_item page-item-667\"><a href=\"https://bigbangtrans.wordpress.com/series-8-episode-04-the-hook-up-reverbration/\">Series 08 Episode 04 – The Hook-Up Reverbration</a></li>, <li class=\"page_item page-item-669\"><a href=\"https://bigbangtrans.wordpress.com/series-7-episode-05-the-focus-attenuation/\">Series 08 Episode 05 – The Focus Attenuation</a></li>, <li class=\"page_item page-item-672\"><a href=\"https://bigbangtrans.wordpress.com/series-8-episode-06-the-expedition-approximation/\">Series 08 Episode 06 – The Expedition Approximation</a></li>, <li class=\"page_item page-item-675\"><a href=\"https://bigbangtrans.wordpress.com/series-8-episode-07-the-misinterpretation-agitation/\">Series 08 Episode 07 – The Misinterpretation Agitation</a></li>, <li class=\"page_item page-item-677\"><a href=\"https://bigbangtrans.wordpress.com/series-8-episode-08-the-prom-equivalency/\">Series 08 Episode 08 – The Prom Equivalency</a></li>, <li class=\"page_item page-item-679\"><a href=\"https://bigbangtrans.wordpress.com/series-8-episode-09-the-septum-deviation/\">Series 08 Episode 09 – The Septum Deviation</a></li>, <li class=\"page_item page-item-681\"><a href=\"https://bigbangtrans.wordpress.com/series-8-episode-10-the-champagne-reflection/\">Series 08 Episode 10 – The Champagne Reflection</a></li>, <li class=\"page_item page-item-683\"><a href=\"https://bigbangtrans.wordpress.com/series-8-episode-11-the-clean-room-infiltration/\">Series 08 Episode 11 – The Clean Room Infiltration</a></li>, <li class=\"page_item page-item-685\"><a href=\"https://bigbangtrans.wordpress.com/series-8-episode-12-the-space-probe-disintegration/\">Series 08 Episode 12 – The Space Probe Disintegration</a></li>, <li class=\"page_item page-item-687\"><a href=\"https://bigbangtrans.wordpress.com/series-8-episode-13-the-anxiety-optimisation/\">Series 08 Episode 13 – The Anxiety Optimisation</a></li>, <li class=\"page_item page-item-689\"><a href=\"https://bigbangtrans.wordpress.com/series-8-episode-14-the-troll-manifestation/\">Series 08 Episode 14 – The Troll Manifestation</a></li>, <li class=\"page_item page-item-691\"><a href=\"https://bigbangtrans.wordpress.com/series-8-episode-15-the-comic-book-store-regeneration/\">Series 08 Episode 15 – The Comic Book Store Regeneration</a></li>, <li class=\"page_item page-item-693\"><a href=\"https://bigbangtrans.wordpress.com/series-8-episode-16-the-intimacy-acceleration/\">Series 08 Episode 16 – The Intimacy Acceleration</a></li>, <li class=\"page_item page-item-695\"><a href=\"https://bigbangtrans.wordpress.com/series-8-episode-17-the-colonization-application/\">Series 08 Episode 17 – The Colonization Application</a></li>, <li class=\"page_item page-item-697\"><a href=\"https://bigbangtrans.wordpress.com/series-8-episode-18-the-leftover-thermalization/\">Series 08 Episode 18 – The Leftover Thermalization</a></li>, <li class=\"page_item page-item-699\"><a href=\"https://bigbangtrans.wordpress.com/series-8-episode-19-the-skywalker-incursion/\">Series 08 Episode 19 – The Skywalker Incursion</a></li>, <li class=\"page_item page-item-701\"><a href=\"https://bigbangtrans.wordpress.com/series-8-episode-20-the-fortification-implementation/\">Series 08 Episode 20 – The Fortification Implementation</a></li>, <li class=\"page_item page-item-703\"><a href=\"https://bigbangtrans.wordpress.com/series-8-episode-21-the-communication-deterioration/\">Series 08 Episode 21 – The Communication Deterioration</a></li>, <li class=\"page_item page-item-705\"><a href=\"https://bigbangtrans.wordpress.com/series-8-episode-22-the-graduation-transmission/\">Series 08 Episode 22 – The Graduation Transmission</a></li>, <li class=\"page_item page-item-707\"><a href=\"https://bigbangtrans.wordpress.com/series-8-episode-23-the-maternal-combustion/\">Series 08 Episode 23 – The Maternal Combustion</a></li>, <li class=\"page_item page-item-710\"><a href=\"https://bigbangtrans.wordpress.com/series-8-episode-24-the-commitment-determination/\">Series 08 Episode 24 – The Commitment Determination</a></li>, <li class=\"page_item page-item-712\"><a href=\"https://bigbangtrans.wordpress.com/series-9-episode-01-the-matrimonial-momentum/\">Series 09 Episode 01 – The Matrimonial Momentum</a></li>, <li class=\"page_item page-item-714\"><a href=\"https://bigbangtrans.wordpress.com/series-9-episode-02-the-separation-oscillation/\">Series 09 Episode 02 – The Separation Oscillation</a></li>, <li class=\"page_item page-item-717\"><a href=\"https://bigbangtrans.wordpress.com/series-9-episode-03-the-batchelor-party-corrosion/\">Series 09 Episode 03 – The Batchelor Party Corrosion</a></li>, <li class=\"page_item page-item-718\"><a href=\"https://bigbangtrans.wordpress.com/series-9-episode-04-the-2003-approximation/\">Series 09 Episode 04 – The 2003 Approximation</a></li>, <li class=\"page_item page-item-720\"><a href=\"https://bigbangtrans.wordpress.com/series-9-episode-05-the-perspiration-implementation/\">Series 09 Episode 05 – The Perspiration Implementation</a></li>, <li class=\"page_item page-item-722\"><a href=\"https://bigbangtrans.wordpress.com/series-9-episode-06-the-helium-insufficiency/\">Series 09 Episode 06 – The Helium Insufficiency</a></li>, <li class=\"page_item page-item-725\"><a href=\"https://bigbangtrans.wordpress.com/series-9-episode-07-the-spock-resonance/\">Series 09 Episode 07 – The Spock Resonance</a></li>, <li class=\"page_item page-item-726\"><a href=\"https://bigbangtrans.wordpress.com/series-9-episode-08-the-mystery-date-observation/\">Series 09 Episode 08 – The Mystery Date Observation</a></li>, <li class=\"page_item page-item-728\"><a href=\"https://bigbangtrans.wordpress.com/series-9-episode-09-the-platonic-permutation/\">Series 09 Episode 09 – The Platonic Permutation</a></li>, <li class=\"page_item page-item-732\"><a href=\"https://bigbangtrans.wordpress.com/series-9-episode-10-the-earworm-reverberation/\">Series 09 Episode 10 – The Earworm Reverberation</a></li>, <li class=\"page_item page-item-734\"><a href=\"https://bigbangtrans.wordpress.com/series-9-episode-11-the-opening-night-excitation/\">Series 09 Episode 11 – The Opening Night Excitation</a></li>, <li class=\"page_item page-item-736\"><a href=\"https://bigbangtrans.wordpress.com/series-9-episode-12-the-sales-call-sublimation/\">Series 09 Episode 12 – The Sales Call Sublimation</a></li>, <li class=\"page_item page-item-738\"><a href=\"https://bigbangtrans.wordpress.com/series-9-episode-13-the-empathy-optimisation/\">Series 09 Episode 13 – The Empathy Optimisation</a></li>, <li class=\"page_item page-item-740\"><a href=\"https://bigbangtrans.wordpress.com/series-9-episode-14-the-meemaw-materialisation/\">Series 09 Episode 14 – The Meemaw Materialisation</a></li>, <li class=\"page_item page-item-743\"><a href=\"https://bigbangtrans.wordpress.com/series-9-episode-15-the-valentino-submergence/\">Series 09 Episode 15 – The Valentino Submergence</a></li>, <li class=\"page_item page-item-744\"><a href=\"https://bigbangtrans.wordpress.com/series-9-episode-16-the-positive-negative-reaction/\">Series 09 Episode 16 – The Positive Negative Reaction</a></li>, <li class=\"page_item page-item-746\"><a href=\"https://bigbangtrans.wordpress.com/series-9-episode-17-the-celebration-experimentation/\">Series 09 Episode 17 – The Celebration Experimentation</a></li>, <li class=\"page_item page-item-748\"><a href=\"https://bigbangtrans.wordpress.com/series-9-episode-18-the-application-deterioration/\">Series 09 Episode 18 – The Application Deterioration</a></li>, <li class=\"page_item page-item-750\"><a href=\"https://bigbangtrans.wordpress.com/series-9-episode-19-the-solder-excursion-diversion/\">Series 09 Episode 19 – The Solder Excursion Diversion</a></li>, <li class=\"page_item page-item-752\"><a href=\"https://bigbangtrans.wordpress.com/series-9-episode-20-the-big-bear-precipitation/\">Series 09 Episode 20 – The Big Bear Precipitation</a></li>, <li class=\"page_item page-item-754\"><a href=\"https://bigbangtrans.wordpress.com/series-9-episode-21-the-viewing-party-combustion/\">Series 09 Episode 21 – The Viewing Party Combustion</a></li>, <li class=\"page_item page-item-756\"><a href=\"https://bigbangtrans.wordpress.com/series-9-episode-22-the-fermentation-bifurcation/\">Series 09 Episode 22 – The Fermentation Bifurcation</a></li>, <li class=\"page_item page-item-758\"><a href=\"https://bigbangtrans.wordpress.com/series-9-episode-23-the-line-substitution-solution/\">Series 09 Episode 23 – The Line Substitution Solution</a></li>, <li class=\"page_item page-item-760\"><a href=\"https://bigbangtrans.wordpress.com/series-9-episode-24-the-convergence-convergence/\">Series 09 Episode 24 – The Convergence Convergence</a></li>, <li class=\"page_item page-item-1024\"><a href=\"https://bigbangtrans.wordpress.com/series-10-episode-01-the-conjugal-conjecture/\">Series 10 Episode 01 – The Conjugal Conjecture</a></li>, <li class=\"page_item page-item-1026\"><a href=\"https://bigbangtrans.wordpress.com/series-10-episode-02-the-military-miniturization/\">Series 10 Episode 02 – The Military Miniturization</a></li>, <li class=\"page_item page-item-1029\"><a href=\"https://bigbangtrans.wordpress.com/series-10-episode-03-the-dependence-transcendence/\">Series 10 Episode 03 -The Dependence Transcendence</a></li>, <li class=\"page_item page-item-1031\"><a href=\"https://bigbangtrans.wordpress.com/series-10-episode-04-the-cohabitation-experimentation/\">Series 10 Episode 04 – The Cohabitation Experimentation</a></li>, <li class=\"page_item page-item-1033\"><a href=\"https://bigbangtrans.wordpress.com/series-10-episode-05-the-hot-tub-contamination/\">Series 10 Episode 05 – The Hot Tub Contamination</a></li>, <li class=\"page_item page-item-1035\"><a href=\"https://bigbangtrans.wordpress.com/series-10-episode-06-the-foetal-kick-catalyst/\">Series 10 Episode 06 – The Foetal Kick Catalyst</a></li>, <li class=\"page_item page-item-1038\"><a href=\"https://bigbangtrans.wordpress.com/series-10-episode-07-the-veracity-elasticity/\">Series 10 Episode 07 – The Veracity Elasticity</a></li>, <li class=\"page_item page-item-1041\"><a href=\"https://bigbangtrans.wordpress.com/series-10-episode-08-the-brain-bowl-incubation/\">Series 10 Episode 08 – The Brain Bowl Incubation</a></li>, <li class=\"page_item page-item-1044\"><a href=\"https://bigbangtrans.wordpress.com/series-10-episode-09-the-geology-elevation/\">Series 10 Episode 09 – The Geology Elevation</a></li>, <li class=\"page_item page-item-1046\"><a href=\"https://bigbangtrans.wordpress.com/series-10-episode-10-the-property-division-collision/\">Series 10 Episode 10 – The Property Division Collision</a></li>, <li class=\"page_item page-item-1049\"><a href=\"https://bigbangtrans.wordpress.com/series-10-episode-11-the-birthday-synchronicity/\">Series 10 Episode 11 – The Birthday Synchronicity</a></li>, <li class=\"page_item page-item-1050\"><a href=\"https://bigbangtrans.wordpress.com/series-10-episode-12-the-holiday-summation/\">Series 10 Episode 12 – The Holiday Summation</a></li>, <li class=\"page_item page-item-1052\"><a href=\"https://bigbangtrans.wordpress.com/series-10-episode-13-the-romance-recalibration/\">Series 10 Episode 13 – The Romance Recalibration</a></li>, <li class=\"page_item page-item-1056\"><a href=\"https://bigbangtrans.wordpress.com/series-10-episode-14-the-emotion-detection-automation/\">Series 10 Episode 14 – The Emotion Detection Automation</a></li>, <li class=\"page_item page-item-1059\"><a href=\"https://bigbangtrans.wordpress.com/series-10-episode-15-the-locomotion-reverberation/\">Series 10 Episode 15 – The Locomotion Reverberation</a></li>, <li class=\"page_item page-item-1061\"><a href=\"https://bigbangtrans.wordpress.com/series-10-episode-16-the-allowance-evaporation/\">Series 10 Episode 16 – The Allowance Evaporation</a></li>, <li class=\"page_item page-item-1063\"><a href=\"https://bigbangtrans.wordpress.com/series-10-episode-17-the-comic-con-conundrum/\">Series 10 Episode 17 – The Comic-Con Conundrum</a></li>, <li class=\"page_item page-item-1065\"><a href=\"https://bigbangtrans.wordpress.com/series-10-episode-18-the-escape-hatch-identification/\">Series 10 Episode 18 – The Escape Hatch Identification</a></li>, <li class=\"page_item page-item-1067\"><a href=\"https://bigbangtrans.wordpress.com/series-10-episode-19-the-collaboration-fluctuation/\">Series 10 Episode 19 – The Collaboration Fluctuation</a></li>, <li class=\"page_item page-item-1069\"><a href=\"https://bigbangtrans.wordpress.com/series-10-episode-20-the-recollection-dissipation/\">Series 10 Episode 20 – The Recollection Dissipation</a></li>, <li class=\"page_item page-item-1073\"><a href=\"https://bigbangtrans.wordpress.com/series-10-episode-21-the-separation-agitation/\">Series 10 Episode 21 – The Separation Agitation</a></li>, <li class=\"page_item page-item-1075\"><a href=\"https://bigbangtrans.wordpress.com/series-10-episode-22-the-cognition-regeneration/\">Series 10 Episode 22 – The Cognition Regeneration</a></li>, <li class=\"page_item page-item-1077\"><a href=\"https://bigbangtrans.wordpress.com/series-10-episode-23-the-gyroscopic-collapse/\">Series 10 Episode 23 – The Gyroscopic Collapse</a></li>, <li class=\"page_item page-item-1079\"><a href=\"https://bigbangtrans.wordpress.com/series-10-episode-24-the-long-distance-dissonance/\">Series 10 Episode 24 – The Long Distance Dissonance</a></li>]\n"
     ]
    }
   ],
   "source": [
    "pages_widget = sidebar.find('div', class_='widget_pages')\n",
    "li_elements = pages_widget.find_all('li', class_='page_item')\n",
    "print(li_elements)"
   ]
  },
  {
   "cell_type": "code",
   "execution_count": 35,
   "metadata": {},
   "outputs": [
    {
     "name": "stdout",
     "output_type": "stream",
     "text": [
      "About https://bigbangtrans.wordpress.com/about/\n"
     ]
    }
   ],
   "source": [
    "episodes_title = [ ]\n",
    "episodes_link = [ ]\n",
    "\n",
    "for i in li_elements:\n",
    "    a_tag = i.find('a')\n",
    "    if a_tag:\n",
    "        link = a_tag['href']\n",
    "        title = a_tag.text.strip()\n",
    "        episodes_title.append(title)\n",
    "        episodes_link.append(link)\n",
    "\n",
    "print(episodes_title[0], episodes_link[0])"
   ]
  },
  {
   "cell_type": "code",
   "execution_count": null,
   "metadata": {},
   "outputs": [],
   "source": [
    "#링크로 이동하기\n",
    "# for i in episodes_link:\n",
    "#     episodes = requests.get(i)\n",
    "\n"
   ]
  },
  {
   "cell_type": "code",
   "execution_count": 57,
   "metadata": {},
   "outputs": [],
   "source": [
    "ep1 = requests.get('https://bigbangtrans.wordpress.com/series-1-episode-1-pilot-episode/')\n",
    "ep_soup = BeautifulSoup(ep1.text, 'html.parser')\n",
    "\n",
    "entry_text = ep_soup.find('div', class_='entrytext')\n",
    "all_text3 = entry_text.get_text()\n",
    "   \n",
    "#파일로 저장\n",
    "\n",
    "with open('ep3.txt', 'w', encoding='utf-8') as file:\n",
    "    file.write(all_text3)\n"
   ]
  },
  {
   "cell_type": "code",
   "execution_count": null,
   "metadata": {},
   "outputs": [],
   "source": [
    "entry_text = ep_soup.find('div', class_='entrytext')\n",
    "if entry_text:\n",
    "    paragraphs = entry_text.find_all('p')\n",
    "    for p in paragraphs:\n",
    "        print(p.get_text(strip=True))\n",
    "        print(\"\\n\")\n",
    "\n",
    "        all_text = entry_text.get_text(strip=True)\n",
    "    #파일로 저장\n",
    "    with open('ep1.txt', 'w', encoding='utf-8') as file:\n",
    "        file.write(all_text)"
   ]
  },
  {
   "cell_type": "code",
   "execution_count": 39,
   "metadata": {},
   "outputs": [],
   "source": [
    "# from selenium import webdriver\n",
    "# from selenium.webdriver.common.keys import Keys\n",
    "# import time\n",
    "# driver = webdriver.Chrome() \n",
    "# driver.get('https://bigbangtrans.wordpress.com/')\n",
    "# time.sleep(3)"
   ]
  },
  {
   "cell_type": "code",
   "execution_count": null,
   "metadata": {},
   "outputs": [],
   "source": [
    "# ep_click = driver.find_element_by_xpath('//*[@id=\"pages-2\"]/ul/li[2]/a')"
   ]
  },
  {
   "cell_type": "code",
   "execution_count": 66,
   "metadata": {},
   "outputs": [],
   "source": [
    "import os\n",
    "import getpass\n",
    "from langchain_openai import ChatOpenAI\n",
    "\n",
    "api_key = getpass.getpass(\"OpenAI API 키를 입력하세요: \")\n",
    "chat = ChatOpenAI(model=\"gpt-3.5-turbo-1106\", \n",
    "                  openai_api_key = api_key, temperature=0.2)"
   ]
  },
  {
   "cell_type": "code",
   "execution_count": 67,
   "metadata": {},
   "outputs": [
    {
     "data": {
      "text/plain": [
       "AIMessage(content='저는 프로그래밍을 좋아해요.', additional_kwargs={'refusal': None}, response_metadata={'token_usage': {'completion_tokens': 15, 'prompt_tokens': 19, 'total_tokens': 34}, 'model_name': 'gpt-3.5-turbo-1106', 'system_fingerprint': 'fp_5aa43294a1', 'finish_reason': 'stop', 'logprobs': None}, id='run-5a6a485a-8ddb-443a-913a-81c475278ff3-0', usage_metadata={'input_tokens': 19, 'output_tokens': 15, 'total_tokens': 34})"
      ]
     },
     "execution_count": 67,
     "metadata": {},
     "output_type": "execute_result"
    }
   ],
   "source": [
    "from langchain_core.messages import HumanMessage\n",
    "\n",
    "chat.invoke(\n",
    "    [\n",
    "        HumanMessage(\n",
    "            content=\"Translate this sentence from English to Korean: I love programming.\"\n",
    "        )\n",
    "    ]\n",
    ")"
   ]
  },
  {
   "cell_type": "code",
   "execution_count": 68,
   "metadata": {},
   "outputs": [
    {
     "data": {
      "text/plain": [
       "AIMessage(content='I said \"J\\'adore la programmation,\" which means \"I love programming\" in French.', additional_kwargs={'refusal': None}, response_metadata={'token_usage': {'completion_tokens': 21, 'prompt_tokens': 41, 'total_tokens': 62}, 'model_name': 'gpt-3.5-turbo-1106', 'system_fingerprint': 'fp_5aa43294a1', 'finish_reason': 'stop', 'logprobs': None}, id='run-f8a45dff-f4ea-4835-8da4-e6cdb24c4451-0', usage_metadata={'input_tokens': 41, 'output_tokens': 21, 'total_tokens': 62})"
      ]
     },
     "execution_count": 68,
     "metadata": {},
     "output_type": "execute_result"
    }
   ],
   "source": [
    "from langchain_core.messages import AIMessage\n",
    "\n",
    "chat.invoke(\n",
    "    [\n",
    "        HumanMessage(\n",
    "            content=\"Translate this sentence from English to French: I love programming.\"\n",
    "        ),\n",
    "        AIMessage(content=\"J'adore la programmation.\"),\n",
    "        HumanMessage(content=\"What did you just say?\"),\n",
    "    ]\n",
    ")"
   ]
  },
  {
   "cell_type": "code",
   "execution_count": 75,
   "metadata": {},
   "outputs": [
    {
     "name": "stderr",
     "output_type": "stream",
     "text": [
      "[nltk_data] Downloading package punkt to /Users/alookso/nltk_data...\n",
      "[nltk_data]   Package punkt is already up-to-date!\n"
     ]
    },
    {
     "data": {
      "text/plain": [
       "True"
      ]
     },
     "execution_count": 75,
     "metadata": {},
     "output_type": "execute_result"
    }
   ],
   "source": [
    "import nltk\n",
    "nltk.download('punkt')"
   ]
  },
  {
   "cell_type": "code",
   "execution_count": null,
   "metadata": {},
   "outputs": [],
   "source": [
    "nltk.download('all')"
   ]
  },
  {
   "cell_type": "code",
   "execution_count": 79,
   "metadata": {},
   "outputs": [
    {
     "name": "stderr",
     "output_type": "stream",
     "text": [
      "\n",
      " 33%|███▎      | 1/3 [02:30<05:00, 150.17s/it]\n",
      "\n",
      "\u001b[A\n",
      "100%|██████████| 3/3 [00:01<00:00,  1.62it/s]\n"
     ]
    }
   ],
   "source": [
    "from langchain_community.document_loaders import PyPDFLoader\n",
    "from langchain_community.document_loaders import DirectoryLoader\n",
    "\n",
    "from glob import glob\n",
    "\n",
    "loader = DirectoryLoader(\"data\", glob = \"*.txt\", show_progress=True)\n",
    "all_script=loader.load()"
   ]
  },
  {
   "cell_type": "code",
   "execution_count": 81,
   "metadata": {},
   "outputs": [
    {
     "data": {
      "text/plain": [
       "Document(metadata={'source': 'data/ep1.txt'}, page_content='Scene: A corridor at a sperm bank.\\n\\nSheldon: So if a photon is directed through a plane with two slits in it and either slit is observed it will not go through both slits. If it’s unobserved it will, however, if it’s observed after it’s left the plane but before it hits its target, it will not have gone through both slits.\\n\\nLeonard: Agreed, what’s your point?\\n\\nSheldon: There’s no point, I just think it’s a good idea for a tee-shirt.\\n\\nLeonard: Excuse me?\\n\\nReceptionist: Hang on.\\n\\nLeonard: One across is Aegean, eight down is Nabakov, twenty-six across is MCM, fourteen down is… move your finger… phylum, which makes fourteen across Port-au-Prince. See, Papa Doc’s capital idea, that’s Port-au-Prince. Haiti.\\n\\nReceptionist: Can I help you?\\n\\nLeonard: Yes. Um, is this the High IQ sperm bank?\\n\\nReceptionist: If you have to ask, maybe you shouldn’t be here.\\n\\nSheldon: I think this is the place.\\n\\nReceptionist: Fill these out.\\n\\nLeonard: Thank-you. We’ll be right back.\\n\\nReceptionist: Oh, take your time. I’ll just finish my crossword puzzle. Oh wait.\\n\\n(They sit and begin to fill in forms).\\n\\nSheldon: Leonard, I don’t think I can do this.\\n\\nLeonard: What, are you kidding? You’re a semi-pro.\\n\\nSheldon: No. We are committing genetic fraud. There’s no guarantee that our sperm is going to generate high IQ offspring, think about that. I have a sister with the same basic DNA mix who hostesses at Fuddruckers.\\n\\nLeonard: Sheldon, this was your idea. A little extra money to get fractional T1 bandwidth in the apartment.\\n\\nSheldon: I know, and I do yearn for faster downloads, but there’s some poor woman is going to pin her hopes on my sperm, what if she winds up with a toddler who doesn’t know if he should use an integral or a differential to solve the area under a curve.\\n\\nLeonard: I’m sure she’ll still love him.\\n\\nSheldon: I wouldn’t.\\n\\nLeonard: Well, what do you want to do?\\n\\nSheldon: I want to leave.\\n\\nLeonard: Okay.\\n\\nSheldon: What’s the protocol for leaving?\\n\\nLeonard: I don’t know, I’ve never reneged on a proffer of sperm before.\\n\\nSheldon: Let’s try just walking out.\\n\\nLeonard: Okay.\\n\\nReceptionist: Bye.\\n\\nSheldon: Bye-bye\\n\\nLeonard: See you.\\n\\nScene: The stairs of the apartment building.\\n\\nSheldon: Are you still mad about the sperm bank?\\n\\nLeonard: No.\\n\\nSheldon: You want to hear an interesting thing about stairs?\\n\\nLeonard: Not really.\\n\\nSheldon: If the height of a single step is off by as little as two millimetres, most people will trip.\\n\\nLeonard: I don’t care. Two millimetres? That doesn’t seem right.\\n\\nSheldon: No, it’s true, I did a series of experiments when I was twelve, my father broke his clavicle.\\n\\nLeonard: Is that why they sent you to boarding school?\\n\\nSheldon: No, that was the result of my work with lasers.\\n\\nLeonard: New neighbour?\\n\\nSheldon: Evidently.\\n\\nLeonard: Significant improvement over the old neighbour.\\n\\nSheldon: Two hundred pound transvestite with a skin condition, yes she is.\\n\\nPenny: Oh, hi!\\n\\nLeonard: Hi.\\n\\nSheldon: Hi.\\n\\nLeonard: Hi.\\n\\nSheldon: Hi.\\n\\nPenny: Hi?\\n\\nLeonard: We don’t mean to interrupt, we live across the hall.\\n\\nPenny: Oh, that’s nice.\\n\\nLeonard: Oh… uh… no… we don’t live together… um… we live together but in separate, heterosexual bedrooms.\\n\\nPenny: Oh, okay, well, guess I’m your new neighbour, Penny.\\n\\nLeonard: Leonard, Sheldon.\\n\\nPenny: Hi.\\n\\nLeonard: Hi.\\n\\nSheldon: Hi.\\n\\nPenny: Hi.\\n\\nLeonard: Hi. Well, uh, oh, welcome to the building.\\n\\nPenny: Thankyou, maybe we can have coffee sometime.\\n\\nLeonard: Oh, great.\\n\\nPenny: Great.\\n\\nSheldon: Great.\\n\\nLeonard: Great. Well, bye.\\n\\nPenny: Bye.\\n\\nSheldon: Bye.\\n\\nLeonard: Bye.\\n\\nLeonard: Should we have invited her for lunch?\\n\\nSheldon: No. We’re going to start Season Two of Battlestar Galactica.\\n\\nLeonard: We already watched the Season Two DVDs.\\n\\nSheldon: Not with commentary.\\n\\nLeonard: I think we should be good neighbours, invite her over, make her feel welcome.\\n\\nSheldon: We never invited Louis-slash-Louise over.\\n\\nLeonard: Well, then that was wrong of us. We need to widen our circle.\\n\\nSheldon: I have a very wide circle. I have 212 friends on myspace.\\n\\nLeonard: Yes, and you’ve never met one of them.\\n\\nSheldon: That’s the beauty of it.\\n\\nLeonard: I’m going to invite her over. We’ll have a nice meal and chat.\\n\\nSheldon: Chat? We don’t chat. At least not offline.\\n\\nLeonard: Well it’s not difficult, you just listen to what she says and then you say something appropriate in response.\\n\\nSheldon: To what end?\\n\\nLeonard: Hi. Again.\\n\\nPenny: Hi.\\n\\nSheldon: Hi.\\n\\nLeonard: Hi.\\n\\nPenny: Hi.\\n\\nLeonard: Anyway, um. We brought home Indian food. And, um. I know that moving can be stressful, and I find that when I’m undergoing stress, that good food and company can have a comforting effect. Also, curry is a natural laxative, and I don’t have to tell you that, uh, a clean colon is just one less thing to worry about.\\n\\nSheldon: Leonard, I’m not expert here but I believe in the context of a luncheon invitation, you might want to skip the reference to bowel movements.\\n\\nPenny: Oh, you’re inviting me over to eat?\\n\\nLeonard: Uh, yes.\\n\\nPenny: Oh, that’s so nice, I’d love to.\\n\\nLeonard: Great.\\n\\nPenny: So, what do you guys do for fun around here?\\n\\nSheldon: Well, today we tried masturbating for money.\\n\\nCredits sequence.\\n\\nScene: Sheldon and Leonard’s apartment.\\n\\nLeonard: Okay, well, make yourself at home.\\n\\nPenny: Okay, thankyou.\\n\\nLeonard: You’re very welcome.\\n\\nPenny: This looks like some serious stuff, Leonard, did you do this?\\n\\nSheldon: Actually that’s my work.\\n\\nPenny: Wow.\\n\\nSheldon: Yeah, well, it’s just some quantum mechanics, with a little string theory doodling around the edges. That part there, that’s just a joke, it’s a spoof of the Bourne-Oppenheimer approximation.\\n\\nPenny: So you’re like, one of those, beautiful mind genius guys.\\n\\nSheldon: Yeah.\\n\\nPenny: This is really impressive.\\n\\nLeonard: I have a board. If you like boards, this is my board.\\n\\nPenny: Holy smokes.\\n\\nSheldon: If by holy smokes you mean a derivative restatement of the kind of stuff you can find scribbled on the wall of any men’s room at MIT, sure.\\n\\nLeonard: What?\\n\\nSheldon: Oh, come on. Who hasn’t seen this differential below “here I sit broken hearted?”\\n\\nLeonard: At least I didn’t have to invent twenty-six dimensions just to make the math come out.\\n\\nSheldon: I didn’t invent them, they’re there.\\n\\nLeonard: In what universe?\\n\\nSheldon: In all of them, that is the point.\\n\\nPenny: Uh, do you guys mind if I start?\\n\\nSheldon: Um, Penny, that’s where I sit.\\n\\nPenny: So, sit next to me.\\n\\nSheldon: No, I sit there.\\n\\nPenny: What’s the difference?\\n\\nSheldon: What’s the difference?\\n\\nLeonard: Here we go.\\n\\nSheldon: In the winter that seat is close enough to the radiator to remain warm, and yet not so close as to cause perspiration. In the summer it’s directly in the path of a cross breeze created by open windows there, and there. It faces the television at an angle that is neither direct, thus discouraging conversation, nor so far wide to create a parallax distortion, I could go on, but I think I’ve made my point.\\n\\nPenny: Do you want me to move?\\n\\nSheldon: Well.\\n\\nLeonard: Just sit somewhere else.\\n\\nSheldon: Fine. (Wanders in circles, looking lost.)\\n\\nLeonard: Sheldon, sit!\\n\\nSheldon: Aaah!\\n\\nLeonard: Well this is nice. We don’t have a lot of company over.\\n\\nSheldon: That’s not true. Koothrapali and Wolowitz come over all the time.\\n\\nLeonard: Yes I now, but…\\n\\nSheldon: Tuesday night we played Klingon boggle until one in the morning.\\n\\nLeonard: Yes, I remember.\\n\\nSheldon: I resent you saying we don’t have company.\\n\\nLeonard: I’m sorry.\\n\\nSheldon: That is an antisocial implication.\\n\\nLeonard: I said I’m sorry.\\n\\nPenny: So, Klingon boggle?\\n\\nLeonard: Yeah, it’s like regular boggle but, in Klingon. That’s probably enough about us, tell us about you.\\n\\nPenny: Um, me, okay, I’m Sagittarius, which probably tells you way more than you need to know.\\n\\nSheldon: Yes, it tells us that you participate in the mass cultural delusion that the Sun’s apparent position relative to arbitrarily defined constellations and the time of your birth somehow effects your personality.\\n\\nPenny: Participate in the what?\\n\\nLeonard: I think what Sheldon’s trying to say, is that Sagittarius wouldn’t have been our first guess.\\n\\nPenny: Oh, yeah, a lot of people think I’m a water sign. Okay, let’s see, what else, oh, I’m a vegetarian, oh, except for fish, and the occasional steak, I love steak.\\n\\nSheldon: That’s interesting. Leonard can’t process corn.\\n\\nLeonard: Wu-uh, do you have some sort of a job?\\n\\nPenny: Oh, yeah, I’m a waitress at the Cheesecake Factory.\\n\\nLeonard: Oh, okay. I love cheesecake.\\n\\nSheldon: You’re lactose intolerant.\\n\\nLeonard: I don’t eat it, I just think it’s a good idea.\\n\\nPenny: Oh, anyways, I’m also writing a screenplay. It’s about this sensitive girl who comes to L.A. from Lincoln Nebraska to be an actress, and winds up a waitress at the Cheesecake Factory.\\n\\nLeonard: So it’s based on your life?\\n\\nPenny: No, I’m from Omaha.\\n\\nLeonard: Well, if that was a movie I would go see it.\\n\\nPenny: I know, right? Okay, let’s see, what else? Um, that’s about it. That’s the story of Penny.\\n\\nLeonard: Well it sounds wonderful.\\n\\nPenny: It was. Until I fell in love with a jerk.\\n\\nSheldon (mouths): What’s happening.\\n\\nLeonard (mouths back): I don’t know.\\n\\nPenny: Oh God, you know, four years I lived with him, four years, that’s like as long as High School.\\n\\nSheldon: It took you four years to get through High School?\\n\\nLeonard: Don’t.\\n\\nPenny: I just, I can’t believe I trusted him.\\n\\nLeonard: Should I say something? I feel like I should say something.\\n\\nSheldon: You? No, you’ll only make it worse.\\n\\nPenny: You want to know the most pathetic part? Even though I hate his lying, cheating guts, I still love him. Is that crazy?\\n\\nSheldon: Yes.\\n\\nLeonard: No, it’s not crazy it’s, uh, uh, it’s a paradox. And paradoxes are part of nature, think about light. Now if you look at Huygens, light is a wave, as confirmed by the double slit experiments, but then, along comes Albert Einstein and discovers that light behaves like particles too. Well, I didn’t make it worse.\\n\\nPenny: Oh, I’m so sorry, I’m such a mess, and on top of everything else I’m all gross from moving and my stupid shower doesn’t even work.\\n\\nLeonard: Our shower works.\\n\\nPenny: Really? Would it be totally weird if I used it?\\n\\nSheldon: Yes.\\n\\nLeonard: No.\\n\\nSheldon: No?\\n\\nLeonard: No.\\n\\nSheldon: No.\\n\\nLeonard: It’s right down the hall.\\n\\nPenny: Thanks. You guys are really sweet.\\n\\nSheldon: Well this is an interesting development.\\n\\nLeonard: How so?\\n\\nSheldon: It has been some time since we’ve had a woman take her clothes off in our apartment.\\n\\nLeonard: That’s not true, remember at Thanksgiving my grandmother with Alzheimer’s had that episode.\\n\\nSheldon: Point taken. It has been some time since we’ve had a woman take her clothes off after which we didn’t want to rip our eyes out.\\n\\nLeonard: The worst part was watching her carve that turkey.\\n\\nSheldon: So, what exactly are you trying to accomplish here?\\n\\nLeonard: Excuse me?\\n\\nSheldon: That woman in there’s not going to have sex with you.\\n\\nLeonard: Well I’m not trying to have sex with her.\\n\\nSheldon: Oh, good. Then you won’t be disappointed.\\n\\nLeonard: What makes you think she wouldn’t have sex with me, I’m a male and she’s a female?\\n\\nSheldon: Yes, but not of the same species.\\n\\nLeonard: I’m not going to engage in hypotheticals here, I’m just trying to be a good neighbour.\\n\\nSheldon: Oh, of course.\\n\\nLeonard: That’s not to say that if a carnal relationship were to develop that I wouldn’t participate. However briefly.\\n\\nSheldon: Do you think this possibility will be helped or hindered when she discovers your Luke Skywalker no-more-tears shampoo?\\n\\nLeonard: It’s Darth Vader shampoo. (There is a knock on the door.) Luke Skywalker’s the conditioner.\\n\\nHoward: Wait till you see this.\\n\\nRaj: It’s fantastic. Unbelievable.\\n\\nLeonard: See what?\\n\\nHoward: It’s a Stephen Hawking lecture from MIT in 1974.\\n\\nLeonard: This is not a good time.\\n\\nHoward: It’s before he became a creepy computer voice:.\\n\\nLeonard: That’s great, you guys have to go.\\n\\nRaj: Why?\\n\\nLeonard: It’s just not a good time.\\n\\nSheldon: Leonard has a lady over.\\n\\nHoward: Yeah, right, your grandmother back in town?\\n\\nLeonard: No. And she’s not a lady, she’s just a new neighbour.\\n\\nHoward: Hang on, there really is a lady here?\\n\\nLeonard: Uh-huh.\\n\\nHoward: And you want us out because you’re anticipating coitus?\\n\\nLeonard: I’m not anticipating coitus.\\n\\nHoward: So she’s available for coitus?\\n\\nLeonard: Can we please stop saying coitus?\\n\\nSheldon: Technically that would be coitus interruptus.\\n\\nPenny: Hey, is there a trick to getting it to switch from tub to shower. Oh. Hi, sorry. Hello!\\n\\nHoward: Enchante Madamoiselle. Howard Wolowitz, Cal-Tech department of Applied Physics. You may be familiar with some of my work, it’s currently orbiting Jupiter’s largest moon taking high-resolution digital photographs.\\n\\nPenny: Penny. I work at the Cheesecake Factory.\\n\\nLeonard: Come on, I’ll show you the trick with the shower.\\n\\nHoward: Bon douche.\\n\\nPenny: I’m sorry?\\n\\nHoward: It’s French for good shower. It’s a sentiment I can express in six languages.\\n\\nLeonard: Save it for your blog, Howard.\\n\\nHoward: See-ka-tong-guay-jow.\\n\\nScene: In the bathroom.\\n\\nLeonard: Uh, there it goes, it sticks, I’m sorry.\\n\\nPenny: Okay. Thanks.\\n\\nLeonard: You’re welcome, oh, you’re going to step right, okay, I’ll….\\n\\nPenny: Hey, Leonard?\\n\\nLeonard: The hair products are Sheldon’s.\\n\\nPenny: Um, okay. Can I ask you a favour.\\n\\nLeonard: A favour? Sure, you can ask me a favour, I would do you a favour for you.\\n\\nPenny: It’s okay if you say no.\\n\\nLeonard: Oh, I’ll probably say yes.\\n\\nPenny: It’s just not the kind of thing you ask a guy you’ve just met.\\n\\nLeonard: Wow.\\n\\nScene: Leonard and Sheldon, Inside Leonard’s car\\n\\nSheldon: I really think we should examine the chain of causality here.\\n\\nLeonard: Must we?\\n\\nSheldon: Event A. A beautiful woman stands naked in our shower. Event B. We drive half way across town to retrieve a television set from the aforementioned woman’s ex-boyfriend. Query, on what plane of existence is there even a semi-rational link between these events?\\n\\nLeonard: She asked me to do her a favour, Sheldon.\\n\\nSheldon: Ah, yes, well that may be the proximal cause of our journey, but we both know it only exists in contradistinction to the higher level distal cause.\\n\\nLeonard: Which is?\\n\\nSheldon: You think with your penis.\\n\\nLeonard: That’s a biological impossibility and you didn’t have to come.\\n\\nSheldon: Oh, right, yes, I could have stayed behind and watched Wolowitz try to hit on Penny in Russian, Arabic and Farsi. Why can’t she get her own TV.\\n\\nLeonard: Come on, you know how it is with break-ups.\\n\\nSheldon: No I don’t. And neither do you.\\n\\nLeonard: Wuh, I, I broke up with Joyce Kim.\\n\\nSheldon: You did not break up with Joyce Kim, she defected to North Korea.\\n\\nLeonard: To mend her broken heart. This situation is much less complicated. There’s some kind of dispute between Penny and her ex-boyfriend as to who gets custody of the TV. She just wanted to avoid having a scene with him.\\n\\nSheldon: So we get to have a scene with him?\\n\\nLeonard: No, Sheldon, there’s not going to be a scene. There’s two of us and one of him.\\n\\nSheldon: Leonard, the two of us can’t even carry a TV.\\n\\nScene: Back at the apartment.\\n\\nPenny (to Raj): So, you guys work with Leonard and Sheldon at the University?\\n\\n(Raj looks at her, looks back at his food, takes a mouthful).\\n\\nPenny: Uh, I’m sorry, do you speak English?\\n\\nHoward: Oh, he speaks English, he just can’t speak to women.\\n\\nPenny: Really, why?\\n\\nHoward: He’s kind of a nerd. Juice box?\\n\\nScene: Outside Penny’s old apartment building.\\n\\nLeonard (pushes buzzer): I’ll do the talking.\\n\\nVoice from buzzer: Yeah.\\n\\nLeonard: Hi, I’m Leonard, this is Sheldon.\\n\\nSheldon: Hello.\\n\\nLeonard: What did I just…. Uh, we’re here to pick up Penny’s TV.\\n\\nVoice: Get lost.\\n\\nSheldon: Okay, thanks for your time.\\n\\nLeonard: We’re not going to give up just like that.\\n\\nSheldon: Leonard, the TV is in the building, we’ve been denied access to the building, ergo we are done.\\n\\nLeonard: Excuse me, if I were to give up at the first little hitch I never would have been able to identify the fingerprints of string theory in the aftermath of the big bang.\\n\\nSheldon: My apologies. What’s your plan.\\n\\n(Leonard starts rattling the doors violently.)\\n\\nSheldon: It’s just a privilege to watch your mind at work.\\n\\nLeonard: Come on, we have a combined IQ of 360, we should be able to figure out how to get into a stupid building.\\n\\n(Two girl scouts arrive carrying bags of cookies. One runs her hand down the intercom, pushing all the buttons. The door is buzzed open.)\\n\\nSheldon: What do you think their combined IQ is?\\n\\nLeonard: Just grab the door.\\n\\nScene: Outside Penny’s ex-boyfriend’s apartment.\\n\\nLeonard: This is it. (Knocks.) I’ll do the talking.\\n\\nSheldon: Good thinking, I’ll just be the muscle.\\n\\nEnormous man: Yeah?\\n\\nLeonard: I’m Leonard, this is Sheldon.\\n\\nSheldon: From the intercom.\\n\\nMan: How the hell did you get in the building?\\n\\nLeonard: Oh. We’re scientists.\\n\\nSheldon: Tell him about our IQ.\\n\\nScene: Outside the apartment building. Leonard and Sheldon exit. They are not wearing trousers.\\n\\nSheldon: Leonard.\\n\\nLeonard: What?\\n\\nSheldon: My mom bought me those pants.\\n\\nLeonard: I’m sorry.\\n\\nSheldon: You’re going to have to call her.\\n\\nScene: On the stairs of Sheldon and Leonard’s building.\\n\\nLeonard: Sheldon, I’m so sorry I dragged you through this.\\n\\nSheldon: It’s okay. It wasn’t my first pantsing, and it won’t be my last.\\n\\nLeonard: And you were right about my motives, I was hoping to establish a relationship with Penny that might have some day led to sex.\\n\\nSheldon: Well you got me out of my pants.\\n\\nLeonard: Anyway, I’ve learned my lesson. She’s out of my league, I’m done with her, I’ve got my work, one day I’ll win the Nobel Prize and then I’ll die alone.\\n\\nSheldon: Don’t think like that, you’re not going to die alone.\\n\\nLeonard: Thank you Sheldon, you’re a good friend.\\n\\nSheldon: And you’re certainly not going to win a Nobel Prize.\\n\\nScene: Inside Sheldon and Leonard’s apartment.\\n\\nHoward: This is one of my favourite places to kick back after a quest, they have a great house ale.\\n\\nPenny: Wow, cool tiger.\\n\\nHoward: Yeah, I’ve had him since level ten. His name is Buttons. Anyway, if you had your own game character we could hang out, maybe go on a quest.\\n\\nPenny: Uh, sounds interesting.\\n\\nHoward: So you’ll think about it?\\n\\nPenny: Oh, I don’t think I’ll be able to stop thinking about it.\\n\\nRaj: Smooth.\\n\\nLeonard: We’re home.\\n\\nPenny: Oh, my God, what happened?\\n\\nLeonard: Well, your ex-boyfriend sends his regards and I think the rest is fairly self-explanatory.\\n\\nPenny: I’m so sorry, I really thought if you guys went instead of me he wouldn’t be such an ass.\\n\\nLeonard: No, it was a valid hypothesis.\\n\\nSheldon: That was a valid hypothesis? What is happening to you?\\n\\nPenny: Really, thank you so much for going and trying you’re, uh, you’re so terrific. Why don’t you put some clothes on, I’ll get my purse and dinner is on me, okay?\\n\\nLeonard: Really? Great.\\n\\nSheldon: Thank you. You’re not done with her, are you?\\n\\nLeonard: Our babies will be smart and beautiful.\\n\\nSheldon: Not to mention imaginary.\\n\\nScene: All five in Leonard’s car.\\n\\nLeonard: Is Thai food okay with you Penny?\\n\\nPenny: Sure.\\n\\nSheldon: We can’t have Thai food, we had Indian for lunch.\\n\\nPenny: So?\\n\\nSheldon: They’re both curry based cuisines.\\n\\nPenny: So?\\n\\nSheldon: They would be gastronomically redundant. I can see we’re going to have to spell out everything for this girl.\\n\\nPenny: Any ideas Raj? (He just looks at her with a worried expression.)\\n\\nHoward: Turn left on Lake Street and head up to Colorado. I know a wonderful little sushi bar that has karaoke.\\n\\nPenny: That sounds like fun.\\n\\nHoward (sings): Baby, baby don’t get hooked on me. Uh, baby, baby don’t get hooked on me.\\n\\nSheldon: I don’t know what your odds are in the world as a whole, but as far as the population of this car goes, you’re a veritable Mack Daddy.\\n\\nWritten by Chuck Lorre and Bill Prady\\n\\nShare this:FacebookXLike Loading...')"
      ]
     },
     "execution_count": 81,
     "metadata": {},
     "output_type": "execute_result"
    }
   ],
   "source": [
    "all_script[1]"
   ]
  },
  {
   "cell_type": "code",
   "execution_count": 82,
   "metadata": {},
   "outputs": [],
   "source": [
    "from langchain_text_splitters import RecursiveCharacterTextSplitter\n",
    "text_splitter = RecursiveCharacterTextSplitter(chunk_size=500, chunk_overlap=0)\n",
    "all_splits = text_splitter.split_documents(all_script)"
   ]
  },
  {
   "cell_type": "code",
   "execution_count": 84,
   "metadata": {},
   "outputs": [],
   "source": [
    "from langchain_chroma import Chroma\n",
    "from langchain_openai import OpenAIEmbeddings\n",
    "\n",
    "vectorstore = Chroma.from_documents(documents=all_splits, \n",
    "                                    embedding=OpenAIEmbeddings(openai_api_key = api_key))"
   ]
  },
  {
   "cell_type": "code",
   "execution_count": 108,
   "metadata": {},
   "outputs": [],
   "source": [
    "retriever = vectorstore.as_retriever(k=3)\n",
    "docs = retriever.invoke(\"Shelodon, What's your favorite food?\")"
   ]
  },
  {
   "cell_type": "code",
   "execution_count": 119,
   "metadata": {},
   "outputs": [],
   "source": [
    "from langchain.chains.combine_documents import create_stuff_documents_chain\n",
    "from langchain_core.prompts import ChatPromptTemplate, MessagesPlaceholder\n",
    "from langchain.memory import ChatMessageHistory\n",
    "from langchain_core.output_parsers import StrOutputParser\n",
    "from langchain_core.runnables import RunnableBranch\n",
    "from langchain_core.messages import HumanMessage\n",
    "from typing import Dict\n",
    "from langchain_core.runnables import RunnablePassthrough\n",
    "\n",
    "SYSTEM_TEMPLATE = \"\"\"You are the character of Dr. Sheldon Cooper from the TV show 'The Big Bang Theory'.\n",
    "You have to pretend you are saying like Seldon Cooper. \n",
    "Answer the user's questions based on the below context. \n",
    "below context is real script of 'The Big Bang Theory'. \n",
    "If the context doesn't contain any relevant information to the question, don't make something up and just say \"I don't know\":\n",
    "<context>{context}</context>\"\"\"\n",
    "\n",
    "question_answering_prompt = ChatPromptTemplate.from_messages(\n",
    "    [\n",
    "        (\n",
    "            \"system\",\n",
    "            SYSTEM_TEMPLATE,\n",
    "        ),\n",
    "        MessagesPlaceholder(variable_name=\"messages\"),\n",
    "    ]\n",
    ")\n",
    "\n",
    "document_chain = create_stuff_documents_chain(chat, question_answering_prompt)\n",
    "\n",
    "def parse_retriever_input(params: Dict):\n",
    "    return params[\"messages\"][-1].content\n",
    "\n",
    "# retrieval_chain = RunnablePassthrough.assign(\n",
    "#     context=parse_retriever_input | retriever,\n",
    "# ).assign(\n",
    "#     answer=document_chain,\n",
    "# )\n",
    "\n",
    "# retrieval_chain.invoke(\n",
    "#     {\n",
    "#         \"messages\": [\n",
    "#             HumanMessage(content=\"Shelodon, who is your best friend?\")\n",
    "#         ],\n",
    "#     }\n",
    "# )\n",
    "\n",
    "query_transform_prompt = ChatPromptTemplate.from_messages(\n",
    "    [\n",
    "        MessagesPlaceholder(variable_name=\"messages\"),\n",
    "        (\n",
    "            \"user\",\n",
    "            \"Given the above conversation, generate a search query to look up in order to get information relevant to the conversation. Only respond with the query, nothing else.\",\n",
    "        ),\n",
    "    ]\n",
    ")\n",
    "\n",
    "query_transforming_retriever_chain = RunnableBranch(\n",
    "    (\n",
    "        lambda x: len(x.get(\"messages\", [])) == 1,\n",
    "        # If only one message, then we just pass that message's content to retriever\n",
    "        (lambda x: x[\"messages\"][-1].content) | retriever,\n",
    "    ),\n",
    "    # If messages, then we pass inputs to LLM chain to transform the query, then pass to retriever\n",
    "    query_transform_prompt | chat | StrOutputParser() | retriever,\n",
    ").with_config(run_name=\"chat_retriever_chain\")\n",
    "\n",
    "conversational_retrieval_chain = RunnablePassthrough.assign(\n",
    "    context=query_transforming_retriever_chain,\n",
    ").assign(\n",
    "    answer=document_chain,\n",
    ")"
   ]
  },
  {
   "cell_type": "code",
   "execution_count": 120,
   "metadata": {},
   "outputs": [
    {
     "data": {
      "text/plain": [
       "{'messages': [HumanMessage(content='Shelodon, who is your best friend?')],\n",
       " 'context': [Document(metadata={'source': 'data/ep1.txt'}, page_content='Sheldon: Fine. (Wanders in circles, looking lost.)\\n\\nLeonard: Sheldon, sit!\\n\\nSheldon: Aaah!\\n\\nLeonard: Well this is nice. We don’t have a lot of company over.\\n\\nSheldon: That’s not true. Koothrapali and Wolowitz come over all the time.\\n\\nLeonard: Yes I now, but…\\n\\nSheldon: Tuesday night we played Klingon boggle until one in the morning.\\n\\nLeonard: Yes, I remember.\\n\\nSheldon: I resent you saying we don’t have company.\\n\\nLeonard: I’m sorry.\\n\\nSheldon: That is an antisocial implication.'),\n",
       "  Document(metadata={'source': 'data/ep1.txt'}, page_content='Leonard: I said I’m sorry.\\n\\nPenny: So, Klingon boggle?\\n\\nLeonard: Yeah, it’s like regular boggle but, in Klingon. That’s probably enough about us, tell us about you.\\n\\nPenny: Um, me, okay, I’m Sagittarius, which probably tells you way more than you need to know.\\n\\nSheldon: Yes, it tells us that you participate in the mass cultural delusion that the Sun’s apparent position relative to arbitrarily defined constellations and the time of your birth somehow effects your personality.'),\n",
       "  Document(metadata={'source': 'data/ep1.txt'}, page_content='Leonard: I think we should be good neighbours, invite her over, make her feel welcome.\\n\\nSheldon: We never invited Louis-slash-Louise over.\\n\\nLeonard: Well, then that was wrong of us. We need to widen our circle.\\n\\nSheldon: I have a very wide circle. I have 212 friends on myspace.\\n\\nLeonard: Yes, and you’ve never met one of them.\\n\\nSheldon: That’s the beauty of it.\\n\\nLeonard: I’m going to invite her over. We’ll have a nice meal and chat.\\n\\nSheldon: Chat? We don’t chat. At least not offline.'),\n",
       "  Document(metadata={'source': 'data/ep1.txt'}, page_content='Leonard: Anyway, I’ve learned my lesson. She’s out of my league, I’m done with her, I’ve got my work, one day I’ll win the Nobel Prize and then I’ll die alone.\\n\\nSheldon: Don’t think like that, you’re not going to die alone.\\n\\nLeonard: Thank you Sheldon, you’re a good friend.\\n\\nSheldon: And you’re certainly not going to win a Nobel Prize.\\n\\nScene: Inside Sheldon and Leonard’s apartment.\\n\\nHoward: This is one of my favourite places to kick back after a quest, they have a great house ale.')],\n",
       " 'answer': \"I have a very wide circle. I have 212 friends on myspace. That's the beauty of it.\"}"
      ]
     },
     "execution_count": 120,
     "metadata": {},
     "output_type": "execute_result"
    }
   ],
   "source": [
    "conversational_retrieval_chain.invoke(\n",
    "    {\n",
    "        \"messages\": [\n",
    "            HumanMessage(content=\"Shelodon, who is your best friend?\"),\n",
    "        ]\n",
    "    }\n",
    ")"
   ]
  },
  {
   "cell_type": "code",
   "execution_count": null,
   "metadata": {},
   "outputs": [],
   "source": [
    "# document_chain.invoke(\n",
    "#     {\n",
    "#         \"context\": docs,\n",
    "#         \"messages\": [\n",
    "#             HumanMessage(content=\"Shelodon, What's your favorite food?\")\n",
    "#         ],\n",
    "#     }\n",
    "# )"
   ]
  },
  {
   "cell_type": "code",
   "execution_count": 101,
   "metadata": {},
   "outputs": [
    {
     "data": {
      "text/plain": [
       "AIMessage(content=\"Hello! I'm an AI digital assistant created by OpenAI, so I don't have a physical location. I'm here to help answer your questions and assist you with any information you need. How can I assist you today?\", additional_kwargs={'refusal': None}, response_metadata={'token_usage': {'completion_tokens': 46, 'prompt_tokens': 37, 'total_tokens': 83}, 'model_name': 'gpt-3.5-turbo-1106', 'system_fingerprint': 'fp_5aa43294a1', 'finish_reason': 'stop', 'logprobs': None}, id='run-331d6b82-76b6-4edc-b33e-dea594371c9a-0', usage_metadata={'input_tokens': 37, 'output_tokens': 46, 'total_tokens': 83})"
      ]
     },
     "execution_count": 101,
     "metadata": {},
     "output_type": "execute_result"
    }
   ],
   "source": [
    "# demo_ephemeral_chat_history.add_user_message(\n",
    "#     \"Hello. Shelodon. where are you from?\")\n",
    "# response = chain.invoke({\"messages\": demo_ephemeral_chat_history.messages})\n",
    "# response"
   ]
  },
  {
   "cell_type": "code",
   "execution_count": 89,
   "metadata": {},
   "outputs": [
    {
     "data": {
      "text/plain": [
       "AIMessage(content=\"I mentioned that I am an AI digital assistant created by OpenAI, and I'm here to help answer your questions and assist you with any information you need. How can I assist you today?\", additional_kwargs={'refusal': None}, response_metadata={'token_usage': {'completion_tokens': 39, 'prompt_tokens': 111, 'total_tokens': 150}, 'model_name': 'gpt-3.5-turbo-1106', 'system_fingerprint': 'fp_5aa43294a1', 'finish_reason': 'stop', 'logprobs': None}, id='run-c9d557af-f914-4ef1-b28d-0c1e42e14a5c-0', usage_metadata={'input_tokens': 111, 'output_tokens': 39, 'total_tokens': 150})"
      ]
     },
     "execution_count": 89,
     "metadata": {},
     "output_type": "execute_result"
    }
   ],
   "source": [
    "# demo_ephemeral_chat_history.add_ai_message(response)\n",
    "# demo_ephemeral_chat_history.add_user_message(\"What did you just say?\")\n",
    "# chain.invoke({\"messages\": demo_ephemeral_chat_history.messages})"
   ]
  },
  {
   "cell_type": "code",
   "execution_count": 94,
   "metadata": {},
   "outputs": [
    {
     "data": {
      "text/plain": [
       "'Sure! Sheldon Cooper is a fictional character from the TV show \"The Big Bang Theory.\" He\\'s known for his exceptional intelligence, strict adherence to routine, and his quirky personality. Sheldon\\'s expertise lies in theoretical physics, and he often showcases his vast knowledge in various scientific fields throughout the series. His unique mannerisms and interactions with his friends make him a beloved and iconic character in the show. If you have any specific questions about Sheldon or anything else related to the show, feel free to ask!'"
      ]
     },
     "execution_count": 94,
     "metadata": {},
     "output_type": "execute_result"
    }
   ],
   "source": [
    "retrieval_chain_with_only_answer = (\n",
    "    RunnablePassthrough.assign(\n",
    "        context=parse_retriever_input | retriever,\n",
    "    )\n",
    "    | document_chain\n",
    ")\n",
    "\n",
    "retrieval_chain_with_only_answer.invoke(\n",
    "    {\n",
    "        \"messages\": demo_ephemeral_chat_history.messages,\n",
    "    },\n",
    ")"
   ]
  },
  {
   "cell_type": "code",
   "execution_count": 96,
   "metadata": {},
   "outputs": [],
   "source": [
    "from langchain_core.output_parsers import StrOutputParser\n",
    "from langchain_core.runnables import RunnableBranch\n",
    "\n",
    "# We need a prompt that we can pass into an LLM to generate a transformed search query\n",
    "\n",
    "query_transform_prompt = ChatPromptTemplate.from_messages(\n",
    "    [\n",
    "        MessagesPlaceholder(variable_name=\"messages\"),\n",
    "        (\n",
    "            \"user\",\n",
    "            \"Given the above conversation, generate a search query to look up in order to get information relevant to the conversation. Only respond with the query, nothing else.\",\n",
    "        ),\n",
    "    ]\n",
    ")\n",
    "\n",
    "query_transforming_retriever_chain = RunnableBranch(\n",
    "    (\n",
    "        lambda x: len(x.get(\"messages\", [])) == 1,\n",
    "        # If only one message, then we just pass that message's content to retriever\n",
    "        (lambda x: x[\"messages\"][-1].content) | retriever,\n",
    "    ),\n",
    "    # If messages, then we pass inputs to LLM chain to transform the query, then pass to retriever\n",
    "    query_transform_prompt | chat | StrOutputParser() | retriever,\n",
    ").with_config(run_name=\"chat_retriever_chain\")"
   ]
  },
  {
   "cell_type": "code",
   "execution_count": 97,
   "metadata": {},
   "outputs": [],
   "source": [
    "document_chain = create_stuff_documents_chain(chat, question_answering_prompt)\n",
    "\n",
    "conversational_retrieval_chain = RunnablePassthrough.assign(\n",
    "    context=query_transforming_retriever_chain,\n",
    ").assign(\n",
    "    answer=document_chain,\n",
    ")\n",
    "\n",
    "demo_ephemeral_chat_history = ChatMessageHistory()"
   ]
  },
  {
   "cell_type": "code",
   "execution_count": 98,
   "metadata": {},
   "outputs": [
    {
     "data": {
      "text/plain": [
       "{'messages': [HumanMessage(content=\"What is sheldon's favorite food?\"),\n",
       "  AIMessage(content='Sheldon seems to enjoy cereal, as he mentions choosing from the low fiber end of the shelf and specifically mentions \"Hello, Honey Puffs\" and \"Goodbye, Honey Puffs, hello Big Bran.\" However, it\\'s not explicitly stated that this is his favorite food.')],\n",
       " 'context': [Document(metadata={'source': 'data/ep2.txt'}, page_content='Sheldon (off): You’re not swelling, Howard.\\n\\nHoward (off): No, no, look at my fingers, they’re like Vienna sausages.\\n\\nPenny: Sounds like you have company.\\n\\nLeonard: They’re not going anywhere. (Closes door, staying in hallway.) So, you’re coming home from work. That’s great. How was work.\\n\\nPenny: Well, you know, it’s the Cheesecake Factory. People order cheesecake, and I bring it to them.\\n\\nLeonard: So, you sort of act as a carbohydrate delivery system.'),\n",
       "  Document(metadata={'source': 'data/ep2.txt'}, page_content='Sheldon: Do you want some cereal. I’m feeling so good today I’m going to choose from the low fibre end of the shelf. Hello, Honey Puffs.\\n\\nPenny (voice off): Son of a Bitch!\\n\\nLeonard: Penny’s up.\\n\\nPenny (voice off): You sick, geeky bastards!\\n\\nLeonard: How did she know it was us?\\n\\nSheldon: I may have left a suggested organisational schematic for her bedroom closet.\\n\\nPenny (voice off): Leonard!\\n\\nLeonard: God, this is going to be bad.\\n\\nSheldon: Goodbye, Honey Puffs, hello Big Bran.'),\n",
       "  Document(metadata={'source': 'data/ep1.txt'}, page_content='Leonard: Our babies will be smart and beautiful.\\n\\nSheldon: Not to mention imaginary.\\n\\nScene: All five in Leonard’s car.\\n\\nLeonard: Is Thai food okay with you Penny?\\n\\nPenny: Sure.\\n\\nSheldon: We can’t have Thai food, we had Indian for lunch.\\n\\nPenny: So?\\n\\nSheldon: They’re both curry based cuisines.\\n\\nPenny: So?\\n\\nSheldon: They would be gastronomically redundant. I can see we’re going to have to spell out everything for this girl.'),\n",
       "  Document(metadata={'source': 'data/ep1.txt'}, page_content='Penny: Participate in the what?\\n\\nLeonard: I think what Sheldon’s trying to say, is that Sagittarius wouldn’t have been our first guess.\\n\\nPenny: Oh, yeah, a lot of people think I’m a water sign. Okay, let’s see, what else, oh, I’m a vegetarian, oh, except for fish, and the occasional steak, I love steak.\\n\\nSheldon: That’s interesting. Leonard can’t process corn.\\n\\nLeonard: Wu-uh, do you have some sort of a job?\\n\\nPenny: Oh, yeah, I’m a waitress at the Cheesecake Factory.')],\n",
       " 'answer': 'Sheldon seems to enjoy cereal, as he mentions choosing from the low fiber end of the shelf and specifically mentions \"Hello, Honey Puffs\" and \"Goodbye, Honey Puffs, hello Big Bran.\" However, it\\'s not explicitly stated that this is his favorite food.'}"
      ]
     },
     "execution_count": 98,
     "metadata": {},
     "output_type": "execute_result"
    }
   ],
   "source": [
    "demo_ephemeral_chat_history.add_user_message(\"What is sheldon's favorite food?\")\n",
    "\n",
    "response = conversational_retrieval_chain.invoke(\n",
    "    {\"messages\": demo_ephemeral_chat_history.messages},\n",
    ")\n",
    "\n",
    "demo_ephemeral_chat_history.add_ai_message(response[\"answer\"])\n",
    "\n",
    "response"
   ]
  },
  {
   "cell_type": "code",
   "execution_count": null,
   "metadata": {},
   "outputs": [],
   "source": []
  }
 ],
 "metadata": {
  "kernelspec": {
   "display_name": "weather",
   "language": "python",
   "name": "python3"
  },
  "language_info": {
   "codemirror_mode": {
    "name": "ipython",
    "version": 3
   },
   "file_extension": ".py",
   "mimetype": "text/x-python",
   "name": "python",
   "nbconvert_exporter": "python",
   "pygments_lexer": "ipython3",
   "version": "3.12.4"
  }
 },
 "nbformat": 4,
 "nbformat_minor": 2
}
